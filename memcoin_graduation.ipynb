{
  "nbformat": 4,
  "nbformat_minor": 0,
  "metadata": {
    "colab": {
      "provenance": [],
      "gpuType": "V28",
      "mount_file_id": "https://github.com/GriPet12/memcoin-graduation/blob/main/memcoin_graduation.ipynb",
      "authorship_tag": "ABX9TyPb9gHG9zNChFlFl8MfAW11",
      "include_colab_link": true
    },
    "kernelspec": {
      "name": "python3",
      "display_name": "Python 3"
    },
    "language_info": {
      "name": "python"
    },
    "accelerator": "TPU",
    "widgets": {
      "application/vnd.jupyter.widget-state+json": {
        "cc2c905578e94b79b49bb97da60b65d6": {
          "model_module": "@jupyter-widgets/controls",
          "model_name": "HBoxModel",
          "model_module_version": "1.5.0",
          "state": {
            "_dom_classes": [],
            "_model_module": "@jupyter-widgets/controls",
            "_model_module_version": "1.5.0",
            "_model_name": "HBoxModel",
            "_view_count": null,
            "_view_module": "@jupyter-widgets/controls",
            "_view_module_version": "1.5.0",
            "_view_name": "HBoxView",
            "box_style": "",
            "children": [
              "IPY_MODEL_92c7c62b61714c2eaf1dc572b295d622",
              "IPY_MODEL_bc5f8911dbf64702ae1fdc666f6bd270",
              "IPY_MODEL_74c3b23359304657ae29723cacb07418"
            ],
            "layout": "IPY_MODEL_ab75f7ba061f4ba0bbf2a67bdec41672"
          }
        },
        "92c7c62b61714c2eaf1dc572b295d622": {
          "model_module": "@jupyter-widgets/controls",
          "model_name": "HTMLModel",
          "model_module_version": "1.5.0",
          "state": {
            "_dom_classes": [],
            "_model_module": "@jupyter-widgets/controls",
            "_model_module_version": "1.5.0",
            "_model_name": "HTMLModel",
            "_view_count": null,
            "_view_module": "@jupyter-widgets/controls",
            "_view_module_version": "1.5.0",
            "_view_name": "HTMLView",
            "description": "",
            "description_tooltip": null,
            "layout": "IPY_MODEL_29b6fff995864106a8c2ee2f8bcb56b8",
            "placeholder": "​",
            "style": "IPY_MODEL_a132abbf5cd943a8b5fdb9d4e1ce8fc5",
            "value": "Loading chunks: 100%"
          }
        },
        "bc5f8911dbf64702ae1fdc666f6bd270": {
          "model_module": "@jupyter-widgets/controls",
          "model_name": "FloatProgressModel",
          "model_module_version": "1.5.0",
          "state": {
            "_dom_classes": [],
            "_model_module": "@jupyter-widgets/controls",
            "_model_module_version": "1.5.0",
            "_model_name": "FloatProgressModel",
            "_view_count": null,
            "_view_module": "@jupyter-widgets/controls",
            "_view_module_version": "1.5.0",
            "_view_name": "ProgressView",
            "bar_style": "success",
            "description": "",
            "description_tooltip": null,
            "layout": "IPY_MODEL_38c93d686a734a78993b9b1fcaa6f3b0",
            "max": 41,
            "min": 0,
            "orientation": "horizontal",
            "style": "IPY_MODEL_d90271ca907d45c5af6025be88e29460",
            "value": 41
          }
        },
        "74c3b23359304657ae29723cacb07418": {
          "model_module": "@jupyter-widgets/controls",
          "model_name": "HTMLModel",
          "model_module_version": "1.5.0",
          "state": {
            "_dom_classes": [],
            "_model_module": "@jupyter-widgets/controls",
            "_model_module_version": "1.5.0",
            "_model_name": "HTMLModel",
            "_view_count": null,
            "_view_module": "@jupyter-widgets/controls",
            "_view_module_version": "1.5.0",
            "_view_name": "HTMLView",
            "description": "",
            "description_tooltip": null,
            "layout": "IPY_MODEL_60628adb96c44b55a60f27d411748ec7",
            "placeholder": "​",
            "style": "IPY_MODEL_740ef76e912e425f82bec94ea57a2791",
            "value": " 41/41 [02:59&lt;00:00,  4.50s/it]"
          }
        },
        "ab75f7ba061f4ba0bbf2a67bdec41672": {
          "model_module": "@jupyter-widgets/base",
          "model_name": "LayoutModel",
          "model_module_version": "1.2.0",
          "state": {
            "_model_module": "@jupyter-widgets/base",
            "_model_module_version": "1.2.0",
            "_model_name": "LayoutModel",
            "_view_count": null,
            "_view_module": "@jupyter-widgets/base",
            "_view_module_version": "1.2.0",
            "_view_name": "LayoutView",
            "align_content": null,
            "align_items": null,
            "align_self": null,
            "border": null,
            "bottom": null,
            "display": null,
            "flex": null,
            "flex_flow": null,
            "grid_area": null,
            "grid_auto_columns": null,
            "grid_auto_flow": null,
            "grid_auto_rows": null,
            "grid_column": null,
            "grid_gap": null,
            "grid_row": null,
            "grid_template_areas": null,
            "grid_template_columns": null,
            "grid_template_rows": null,
            "height": null,
            "justify_content": null,
            "justify_items": null,
            "left": null,
            "margin": null,
            "max_height": null,
            "max_width": null,
            "min_height": null,
            "min_width": null,
            "object_fit": null,
            "object_position": null,
            "order": null,
            "overflow": null,
            "overflow_x": null,
            "overflow_y": null,
            "padding": null,
            "right": null,
            "top": null,
            "visibility": null,
            "width": null
          }
        },
        "29b6fff995864106a8c2ee2f8bcb56b8": {
          "model_module": "@jupyter-widgets/base",
          "model_name": "LayoutModel",
          "model_module_version": "1.2.0",
          "state": {
            "_model_module": "@jupyter-widgets/base",
            "_model_module_version": "1.2.0",
            "_model_name": "LayoutModel",
            "_view_count": null,
            "_view_module": "@jupyter-widgets/base",
            "_view_module_version": "1.2.0",
            "_view_name": "LayoutView",
            "align_content": null,
            "align_items": null,
            "align_self": null,
            "border": null,
            "bottom": null,
            "display": null,
            "flex": null,
            "flex_flow": null,
            "grid_area": null,
            "grid_auto_columns": null,
            "grid_auto_flow": null,
            "grid_auto_rows": null,
            "grid_column": null,
            "grid_gap": null,
            "grid_row": null,
            "grid_template_areas": null,
            "grid_template_columns": null,
            "grid_template_rows": null,
            "height": null,
            "justify_content": null,
            "justify_items": null,
            "left": null,
            "margin": null,
            "max_height": null,
            "max_width": null,
            "min_height": null,
            "min_width": null,
            "object_fit": null,
            "object_position": null,
            "order": null,
            "overflow": null,
            "overflow_x": null,
            "overflow_y": null,
            "padding": null,
            "right": null,
            "top": null,
            "visibility": null,
            "width": null
          }
        },
        "a132abbf5cd943a8b5fdb9d4e1ce8fc5": {
          "model_module": "@jupyter-widgets/controls",
          "model_name": "DescriptionStyleModel",
          "model_module_version": "1.5.0",
          "state": {
            "_model_module": "@jupyter-widgets/controls",
            "_model_module_version": "1.5.0",
            "_model_name": "DescriptionStyleModel",
            "_view_count": null,
            "_view_module": "@jupyter-widgets/base",
            "_view_module_version": "1.2.0",
            "_view_name": "StyleView",
            "description_width": ""
          }
        },
        "38c93d686a734a78993b9b1fcaa6f3b0": {
          "model_module": "@jupyter-widgets/base",
          "model_name": "LayoutModel",
          "model_module_version": "1.2.0",
          "state": {
            "_model_module": "@jupyter-widgets/base",
            "_model_module_version": "1.2.0",
            "_model_name": "LayoutModel",
            "_view_count": null,
            "_view_module": "@jupyter-widgets/base",
            "_view_module_version": "1.2.0",
            "_view_name": "LayoutView",
            "align_content": null,
            "align_items": null,
            "align_self": null,
            "border": null,
            "bottom": null,
            "display": null,
            "flex": null,
            "flex_flow": null,
            "grid_area": null,
            "grid_auto_columns": null,
            "grid_auto_flow": null,
            "grid_auto_rows": null,
            "grid_column": null,
            "grid_gap": null,
            "grid_row": null,
            "grid_template_areas": null,
            "grid_template_columns": null,
            "grid_template_rows": null,
            "height": null,
            "justify_content": null,
            "justify_items": null,
            "left": null,
            "margin": null,
            "max_height": null,
            "max_width": null,
            "min_height": null,
            "min_width": null,
            "object_fit": null,
            "object_position": null,
            "order": null,
            "overflow": null,
            "overflow_x": null,
            "overflow_y": null,
            "padding": null,
            "right": null,
            "top": null,
            "visibility": null,
            "width": null
          }
        },
        "d90271ca907d45c5af6025be88e29460": {
          "model_module": "@jupyter-widgets/controls",
          "model_name": "ProgressStyleModel",
          "model_module_version": "1.5.0",
          "state": {
            "_model_module": "@jupyter-widgets/controls",
            "_model_module_version": "1.5.0",
            "_model_name": "ProgressStyleModel",
            "_view_count": null,
            "_view_module": "@jupyter-widgets/base",
            "_view_module_version": "1.2.0",
            "_view_name": "StyleView",
            "bar_color": null,
            "description_width": ""
          }
        },
        "60628adb96c44b55a60f27d411748ec7": {
          "model_module": "@jupyter-widgets/base",
          "model_name": "LayoutModel",
          "model_module_version": "1.2.0",
          "state": {
            "_model_module": "@jupyter-widgets/base",
            "_model_module_version": "1.2.0",
            "_model_name": "LayoutModel",
            "_view_count": null,
            "_view_module": "@jupyter-widgets/base",
            "_view_module_version": "1.2.0",
            "_view_name": "LayoutView",
            "align_content": null,
            "align_items": null,
            "align_self": null,
            "border": null,
            "bottom": null,
            "display": null,
            "flex": null,
            "flex_flow": null,
            "grid_area": null,
            "grid_auto_columns": null,
            "grid_auto_flow": null,
            "grid_auto_rows": null,
            "grid_column": null,
            "grid_gap": null,
            "grid_row": null,
            "grid_template_areas": null,
            "grid_template_columns": null,
            "grid_template_rows": null,
            "height": null,
            "justify_content": null,
            "justify_items": null,
            "left": null,
            "margin": null,
            "max_height": null,
            "max_width": null,
            "min_height": null,
            "min_width": null,
            "object_fit": null,
            "object_position": null,
            "order": null,
            "overflow": null,
            "overflow_x": null,
            "overflow_y": null,
            "padding": null,
            "right": null,
            "top": null,
            "visibility": null,
            "width": null
          }
        },
        "740ef76e912e425f82bec94ea57a2791": {
          "model_module": "@jupyter-widgets/controls",
          "model_name": "DescriptionStyleModel",
          "model_module_version": "1.5.0",
          "state": {
            "_model_module": "@jupyter-widgets/controls",
            "_model_module_version": "1.5.0",
            "_model_name": "DescriptionStyleModel",
            "_view_count": null,
            "_view_module": "@jupyter-widgets/base",
            "_view_module_version": "1.2.0",
            "_view_name": "StyleView",
            "description_width": ""
          }
        }
      }
    }
  },
  "cells": [
    {
      "cell_type": "markdown",
      "metadata": {
        "id": "view-in-github",
        "colab_type": "text"
      },
      "source": [
        "<a href=\"https://colab.research.google.com/github/GriPet12/memcoin-graduation/blob/main/memcoin_graduation.ipynb\" target=\"_parent\"><img src=\"https://colab.research.google.com/assets/colab-badge.svg\" alt=\"Open In Colab\"/></a>"
      ]
    },
    {
      "cell_type": "markdown",
      "source": [
        "# Import"
      ],
      "metadata": {
        "id": "ESyN4GCcXrH3"
      }
    },
    {
      "cell_type": "code",
      "source": [
        "!pip install catboost lightgbm xgboost"
      ],
      "metadata": {
        "colab": {
          "base_uri": "https://localhost:8080/"
        },
        "id": "RU5Rm703Yn9Z",
        "outputId": "60d93df6-00a7-4348-a66d-7b9674dd3def"
      },
      "execution_count": 6,
      "outputs": [
        {
          "output_type": "stream",
          "name": "stdout",
          "text": [
            "Requirement already satisfied: catboost in /usr/local/lib/python3.11/dist-packages (1.2.8)\n",
            "Requirement already satisfied: lightgbm in /usr/local/lib/python3.11/dist-packages (4.6.0)\n",
            "Collecting xgboost\n",
            "  Downloading xgboost-3.0.1-py3-none-manylinux_2_28_x86_64.whl.metadata (2.1 kB)\n",
            "Requirement already satisfied: graphviz in /usr/local/lib/python3.11/dist-packages (from catboost) (0.20.3)\n",
            "Requirement already satisfied: matplotlib in /usr/local/lib/python3.11/dist-packages (from catboost) (3.10.0)\n",
            "Requirement already satisfied: numpy<3.0,>=1.16.0 in /usr/local/lib/python3.11/dist-packages (from catboost) (2.0.2)\n",
            "Requirement already satisfied: pandas>=0.24 in /usr/local/lib/python3.11/dist-packages (from catboost) (2.2.2)\n",
            "Requirement already satisfied: scipy in /usr/local/lib/python3.11/dist-packages (from catboost) (1.15.3)\n",
            "Requirement already satisfied: plotly in /usr/local/lib/python3.11/dist-packages (from catboost) (5.24.1)\n",
            "Requirement already satisfied: six in /usr/local/lib/python3.11/dist-packages (from catboost) (1.17.0)\n",
            "Collecting nvidia-nccl-cu12 (from xgboost)\n",
            "  Downloading nvidia_nccl_cu12-2.26.5-py3-none-manylinux2014_x86_64.manylinux_2_17_x86_64.whl.metadata (2.0 kB)\n",
            "Requirement already satisfied: python-dateutil>=2.8.2 in /usr/local/lib/python3.11/dist-packages (from pandas>=0.24->catboost) (2.9.0.post0)\n",
            "Requirement already satisfied: pytz>=2020.1 in /usr/local/lib/python3.11/dist-packages (from pandas>=0.24->catboost) (2025.2)\n",
            "Requirement already satisfied: tzdata>=2022.7 in /usr/local/lib/python3.11/dist-packages (from pandas>=0.24->catboost) (2025.2)\n",
            "Requirement already satisfied: contourpy>=1.0.1 in /usr/local/lib/python3.11/dist-packages (from matplotlib->catboost) (1.3.2)\n",
            "Requirement already satisfied: cycler>=0.10 in /usr/local/lib/python3.11/dist-packages (from matplotlib->catboost) (0.12.1)\n",
            "Requirement already satisfied: fonttools>=4.22.0 in /usr/local/lib/python3.11/dist-packages (from matplotlib->catboost) (4.58.0)\n",
            "Requirement already satisfied: kiwisolver>=1.3.1 in /usr/local/lib/python3.11/dist-packages (from matplotlib->catboost) (1.4.8)\n",
            "Requirement already satisfied: packaging>=20.0 in /usr/local/lib/python3.11/dist-packages (from matplotlib->catboost) (25.0)\n",
            "Requirement already satisfied: pillow>=8 in /usr/local/lib/python3.11/dist-packages (from matplotlib->catboost) (11.2.1)\n",
            "Requirement already satisfied: pyparsing>=2.3.1 in /usr/local/lib/python3.11/dist-packages (from matplotlib->catboost) (3.2.3)\n",
            "Requirement already satisfied: tenacity>=6.2.0 in /usr/local/lib/python3.11/dist-packages (from plotly->catboost) (9.1.2)\n",
            "Downloading xgboost-3.0.1-py3-none-manylinux_2_28_x86_64.whl (253.9 MB)\n",
            "\u001b[2K   \u001b[90m━━━━━━━━━━━━━━━━━━━━━━━━━━━━━━━━━━━━━━━━\u001b[0m \u001b[32m253.9/253.9 MB\u001b[0m \u001b[31m4.2 MB/s\u001b[0m eta \u001b[36m0:00:00\u001b[0m\n",
            "\u001b[?25hDownloading nvidia_nccl_cu12-2.26.5-py3-none-manylinux2014_x86_64.manylinux_2_17_x86_64.whl (318.1 MB)\n",
            "\u001b[2K   \u001b[90m━━━━━━━━━━━━━━━━━━━━━━━━━━━━━━━━━━━━━━━━\u001b[0m \u001b[32m318.1/318.1 MB\u001b[0m \u001b[31m3.3 MB/s\u001b[0m eta \u001b[36m0:00:00\u001b[0m\n",
            "\u001b[?25hInstalling collected packages: nvidia-nccl-cu12, xgboost\n",
            "Successfully installed nvidia-nccl-cu12-2.26.5 xgboost-3.0.1\n"
          ]
        }
      ]
    },
    {
      "cell_type": "code",
      "execution_count": 7,
      "metadata": {
        "id": "My4ddd3X-Fcf"
      },
      "outputs": [],
      "source": [
        "import pandas as pd\n",
        "import numpy as np\n",
        "import glob\n",
        "import os\n",
        "import gc\n",
        "from tqdm.auto import tqdm\n",
        "\n",
        "# Modeling & Evaluation\n",
        "from sklearn.model_selection import StratifiedKFold\n",
        "from sklearn.preprocessing import LabelEncoder\n",
        "import lightgbm as lgb\n",
        "import catboost as cb\n",
        "import xgboost as xgb\n",
        "from sklearn.metrics import log_loss"
      ]
    },
    {
      "cell_type": "markdown",
      "source": [
        "# Configuration"
      ],
      "metadata": {
        "id": "i1STWE1AXo5d"
      }
    },
    {
      "cell_type": "code",
      "source": [
        "DATA_PATH = '/content/drive/MyDrive/memcoin-graduation/pump-fun-graduation-february-2025'\n",
        "CHUNK_PATTERN = os.path.join(DATA_PATH, 'chunk*.csv')\n",
        "TRAIN_FILE = os.path.join(DATA_PATH, 'train.csv')\n",
        "TEST_FILE = os.path.join(DATA_PATH, 'test_unlabeled.csv')\n",
        "DUNE_INFO_FILE = os.path.join(DATA_PATH, 'dune_token_info.csv')\n",
        "ONCHAIN_INFO_FILE = os.path.join(DATA_PATH, 'token_info_onchain_divers.csv')\n",
        "SUBMISSION_FILE = 'submission.csv'\n",
        "\n",
        "TARGET = 'has_graduated'\n",
        "MINT_ID = 'mint'\n",
        "BLOCK_LIMIT = 100 # Only use data from first 100 blocks post-mint\n",
        "N_SPLITS = 5 # Number of folds for cross-validation\n",
        "RANDOM_SEED = 42"
      ],
      "metadata": {
        "id": "HDXD36poZFRF"
      },
      "execution_count": 8,
      "outputs": []
    },
    {
      "cell_type": "markdown",
      "source": [
        "# Load Data"
      ],
      "metadata": {
        "id": "y6FopxF_Z_I5"
      }
    },
    {
      "cell_type": "code",
      "source": [
        "print(\"Loading data...\")\n",
        "train_df = pd.read_csv(TRAIN_FILE)\n",
        "test_df = pd.read_csv(TEST_FILE)\n",
        "dune_info_df = pd.read_csv(DUNE_INFO_FILE)\n",
        "onchain_info_df = pd.read_csv(ONCHAIN_INFO_FILE)\n",
        "\n",
        "train_df['is_train'] = 1\n",
        "test_df['is_train'] = 0\n",
        "combined_df = pd.concat([train_df, test_df], ignore_index=True)\n",
        "\n",
        "all_chunk_files = glob.glob(CHUNK_PATTERN)\n",
        "print(f\"Found {len(all_chunk_files)} chunk files.\")\n",
        "\n",
        "chunk_list = []\n",
        "for f in tqdm(all_chunk_files, desc=\"Loading chunks\"):\n",
        "    try:\n",
        "        chunk_list.append(pd.read_csv(f))\n",
        "    except Exception as e:\n",
        "        print(f\"Error loading {f}: {e}\")\n",
        "if not chunk_list:\n",
        "    raise ValueError(\"No chunk files loaded. Check CHUNK_PATTERN and file existence.\")\n",
        "\n",
        "transactions_df = pd.concat(chunk_list, ignore_index=True)"
      ],
      "metadata": {
        "colab": {
          "base_uri": "https://localhost:8080/",
          "height": 118,
          "referenced_widgets": [
            "cc2c905578e94b79b49bb97da60b65d6",
            "92c7c62b61714c2eaf1dc572b295d622",
            "bc5f8911dbf64702ae1fdc666f6bd270",
            "74c3b23359304657ae29723cacb07418",
            "ab75f7ba061f4ba0bbf2a67bdec41672",
            "29b6fff995864106a8c2ee2f8bcb56b8",
            "a132abbf5cd943a8b5fdb9d4e1ce8fc5",
            "38c93d686a734a78993b9b1fcaa6f3b0",
            "d90271ca907d45c5af6025be88e29460",
            "60628adb96c44b55a60f27d411748ec7",
            "740ef76e912e425f82bec94ea57a2791"
          ]
        },
        "id": "sras5flaZ9jn",
        "outputId": "a1243e9b-bb10-41a3-d289-8f64ec835a16"
      },
      "execution_count": 9,
      "outputs": [
        {
          "output_type": "stream",
          "name": "stdout",
          "text": [
            "Loading data...\n"
          ]
        },
        {
          "output_type": "stream",
          "name": "stderr",
          "text": [
            "<ipython-input-9-3ee4f091b291>:5: DtypeWarning: Columns (1,2) have mixed types. Specify dtype option on import or set low_memory=False.\n",
            "  onchain_info_df = pd.read_csv(ONCHAIN_INFO_FILE)\n"
          ]
        },
        {
          "output_type": "stream",
          "name": "stdout",
          "text": [
            "Found 41 chunk files.\n"
          ]
        },
        {
          "output_type": "display_data",
          "data": {
            "text/plain": [
              "Loading chunks:   0%|          | 0/41 [00:00<?, ?it/s]"
            ],
            "application/vnd.jupyter.widget-view+json": {
              "version_major": 2,
              "version_minor": 0,
              "model_id": "cc2c905578e94b79b49bb97da60b65d6"
            }
          },
          "metadata": {}
        }
      ]
    },
    {
      "cell_type": "code",
      "source": [
        "transactions_df.head()"
      ],
      "metadata": {
        "colab": {
          "base_uri": "https://localhost:8080/",
          "height": 313
        },
        "id": "7J92b_y_bUbf",
        "outputId": "9a3763d3-54b9-458a-a7ff-1ecb1bb5ef66"
      },
      "execution_count": 10,
      "outputs": [
        {
          "output_type": "execute_result",
          "data": {
            "text/plain": [
              "            block_time       slot  tx_idx  \\\n",
              "0  2025-02-01 16:00:00  317876496    1897   \n",
              "1  2025-02-01 16:00:00  317876496    1794   \n",
              "2  2025-02-01 16:00:00  317876496    1880   \n",
              "3  2025-02-01 16:00:01  317876499    1350   \n",
              "4  2025-02-01 16:00:01  317876500    2389   \n",
              "\n",
              "                                 signing_wallet direction  \\\n",
              "0  EXoaGQc1taATjsXVPXhnVYddW4KiM1uQRhrYDdfi1x7b       buy   \n",
              "1  9Ypu1cMva6dE6k9Zk4aSSmSgJvMmJLTWXuGQhTYqt8mx       buy   \n",
              "2  3njxeVx5TjDYD27C1YsZW2JQzgmoYeATambcbw7Xn1ft      sell   \n",
              "3  DjZ1Cpxp6uKvYHU678QkjFj8XKfUwAmCtxUMG5QuBdJT       buy   \n",
              "4  6WgXuHPo9xWu1Mzt8hULYWFwpyh1WwhByPYjsF23h41A       buy   \n",
              "\n",
              "                                      base_coin  base_coin_amount  \\\n",
              "0   Ab2voNJxp9xM2sdoF6JRJV8dtZ6hGm8yMSt3xAMpump     5208861189189   \n",
              "1  BmTDA5HqcemLkEgpyK25sDhbvk652CTXjdWEa8fLpump     1785357737104   \n",
              "2  FZ8wX1RAwV72gniwc9quiZSXHnrECQwoCxAXCWRipump      721068391933   \n",
              "3  BmTDA5HqcemLkEgpyK25sDhbvk652CTXjdWEa8fLpump   115855160976852   \n",
              "4  4FJwryCAMMePNeWw9LTBXXfXABdkKcAxkTT6h9pdpump    67062499999999   \n",
              "\n",
              "   quote_coin_amount  virtual_token_balance_after  virtual_sol_balance_after  \\\n",
              "0          150740503             1052069532604495                30596837025   \n",
              "1           50000000             1071214642262896                30050000000   \n",
              "2           22610289             1013561711601751                31759289915   \n",
              "3         3644123135              955359481286044                33694123135   \n",
              "4         2000000000             1005937500000001                32000000000   \n",
              "\n",
              "                                           signature  provided_gas_fee  \\\n",
              "0  3Td5mZpy63TNuyHncgpJFvPudbU3fKcRaeTbqTRsdSLKnN...           3982833   \n",
              "1  3HHvJsNKWg6epToaZUouqDJdkysiJGKeBkWnhg7sPyWpFY...           9475209   \n",
              "2  2rfHemwRWv9t2xuY2umAq2aQrx8Gn73g6tAEDBTE2yrzcf...           4624039   \n",
              "3  Ky5DURUWgB7N3NfNAx5jf7a23pecQAwxbcwuwaWE2MPk7R...         170888000   \n",
              "4  4rSq4SK7a6zb2hNV6x89DfwZ9XFAyy4sp1g9YQfuG8A3Ep...            100000   \n",
              "\n",
              "   provided_gas_limit       fee  consumed_gas  \n",
              "0              200862    805000        161488  \n",
              "1              194994   1857609        194994  \n",
              "2              162000    754095         78540  \n",
              "3               80000  13676040         62135  \n",
              "4              500000     60000        201798  "
            ],
            "text/html": [
              "\n",
              "  <div id=\"df-a539da75-91e3-4014-a50f-05a923efc770\" class=\"colab-df-container\">\n",
              "    <div>\n",
              "<style scoped>\n",
              "    .dataframe tbody tr th:only-of-type {\n",
              "        vertical-align: middle;\n",
              "    }\n",
              "\n",
              "    .dataframe tbody tr th {\n",
              "        vertical-align: top;\n",
              "    }\n",
              "\n",
              "    .dataframe thead th {\n",
              "        text-align: right;\n",
              "    }\n",
              "</style>\n",
              "<table border=\"1\" class=\"dataframe\">\n",
              "  <thead>\n",
              "    <tr style=\"text-align: right;\">\n",
              "      <th></th>\n",
              "      <th>block_time</th>\n",
              "      <th>slot</th>\n",
              "      <th>tx_idx</th>\n",
              "      <th>signing_wallet</th>\n",
              "      <th>direction</th>\n",
              "      <th>base_coin</th>\n",
              "      <th>base_coin_amount</th>\n",
              "      <th>quote_coin_amount</th>\n",
              "      <th>virtual_token_balance_after</th>\n",
              "      <th>virtual_sol_balance_after</th>\n",
              "      <th>signature</th>\n",
              "      <th>provided_gas_fee</th>\n",
              "      <th>provided_gas_limit</th>\n",
              "      <th>fee</th>\n",
              "      <th>consumed_gas</th>\n",
              "    </tr>\n",
              "  </thead>\n",
              "  <tbody>\n",
              "    <tr>\n",
              "      <th>0</th>\n",
              "      <td>2025-02-01 16:00:00</td>\n",
              "      <td>317876496</td>\n",
              "      <td>1897</td>\n",
              "      <td>EXoaGQc1taATjsXVPXhnVYddW4KiM1uQRhrYDdfi1x7b</td>\n",
              "      <td>buy</td>\n",
              "      <td>Ab2voNJxp9xM2sdoF6JRJV8dtZ6hGm8yMSt3xAMpump</td>\n",
              "      <td>5208861189189</td>\n",
              "      <td>150740503</td>\n",
              "      <td>1052069532604495</td>\n",
              "      <td>30596837025</td>\n",
              "      <td>3Td5mZpy63TNuyHncgpJFvPudbU3fKcRaeTbqTRsdSLKnN...</td>\n",
              "      <td>3982833</td>\n",
              "      <td>200862</td>\n",
              "      <td>805000</td>\n",
              "      <td>161488</td>\n",
              "    </tr>\n",
              "    <tr>\n",
              "      <th>1</th>\n",
              "      <td>2025-02-01 16:00:00</td>\n",
              "      <td>317876496</td>\n",
              "      <td>1794</td>\n",
              "      <td>9Ypu1cMva6dE6k9Zk4aSSmSgJvMmJLTWXuGQhTYqt8mx</td>\n",
              "      <td>buy</td>\n",
              "      <td>BmTDA5HqcemLkEgpyK25sDhbvk652CTXjdWEa8fLpump</td>\n",
              "      <td>1785357737104</td>\n",
              "      <td>50000000</td>\n",
              "      <td>1071214642262896</td>\n",
              "      <td>30050000000</td>\n",
              "      <td>3HHvJsNKWg6epToaZUouqDJdkysiJGKeBkWnhg7sPyWpFY...</td>\n",
              "      <td>9475209</td>\n",
              "      <td>194994</td>\n",
              "      <td>1857609</td>\n",
              "      <td>194994</td>\n",
              "    </tr>\n",
              "    <tr>\n",
              "      <th>2</th>\n",
              "      <td>2025-02-01 16:00:00</td>\n",
              "      <td>317876496</td>\n",
              "      <td>1880</td>\n",
              "      <td>3njxeVx5TjDYD27C1YsZW2JQzgmoYeATambcbw7Xn1ft</td>\n",
              "      <td>sell</td>\n",
              "      <td>FZ8wX1RAwV72gniwc9quiZSXHnrECQwoCxAXCWRipump</td>\n",
              "      <td>721068391933</td>\n",
              "      <td>22610289</td>\n",
              "      <td>1013561711601751</td>\n",
              "      <td>31759289915</td>\n",
              "      <td>2rfHemwRWv9t2xuY2umAq2aQrx8Gn73g6tAEDBTE2yrzcf...</td>\n",
              "      <td>4624039</td>\n",
              "      <td>162000</td>\n",
              "      <td>754095</td>\n",
              "      <td>78540</td>\n",
              "    </tr>\n",
              "    <tr>\n",
              "      <th>3</th>\n",
              "      <td>2025-02-01 16:00:01</td>\n",
              "      <td>317876499</td>\n",
              "      <td>1350</td>\n",
              "      <td>DjZ1Cpxp6uKvYHU678QkjFj8XKfUwAmCtxUMG5QuBdJT</td>\n",
              "      <td>buy</td>\n",
              "      <td>BmTDA5HqcemLkEgpyK25sDhbvk652CTXjdWEa8fLpump</td>\n",
              "      <td>115855160976852</td>\n",
              "      <td>3644123135</td>\n",
              "      <td>955359481286044</td>\n",
              "      <td>33694123135</td>\n",
              "      <td>Ky5DURUWgB7N3NfNAx5jf7a23pecQAwxbcwuwaWE2MPk7R...</td>\n",
              "      <td>170888000</td>\n",
              "      <td>80000</td>\n",
              "      <td>13676040</td>\n",
              "      <td>62135</td>\n",
              "    </tr>\n",
              "    <tr>\n",
              "      <th>4</th>\n",
              "      <td>2025-02-01 16:00:01</td>\n",
              "      <td>317876500</td>\n",
              "      <td>2389</td>\n",
              "      <td>6WgXuHPo9xWu1Mzt8hULYWFwpyh1WwhByPYjsF23h41A</td>\n",
              "      <td>buy</td>\n",
              "      <td>4FJwryCAMMePNeWw9LTBXXfXABdkKcAxkTT6h9pdpump</td>\n",
              "      <td>67062499999999</td>\n",
              "      <td>2000000000</td>\n",
              "      <td>1005937500000001</td>\n",
              "      <td>32000000000</td>\n",
              "      <td>4rSq4SK7a6zb2hNV6x89DfwZ9XFAyy4sp1g9YQfuG8A3Ep...</td>\n",
              "      <td>100000</td>\n",
              "      <td>500000</td>\n",
              "      <td>60000</td>\n",
              "      <td>201798</td>\n",
              "    </tr>\n",
              "  </tbody>\n",
              "</table>\n",
              "</div>\n",
              "    <div class=\"colab-df-buttons\">\n",
              "\n",
              "  <div class=\"colab-df-container\">\n",
              "    <button class=\"colab-df-convert\" onclick=\"convertToInteractive('df-a539da75-91e3-4014-a50f-05a923efc770')\"\n",
              "            title=\"Convert this dataframe to an interactive table.\"\n",
              "            style=\"display:none;\">\n",
              "\n",
              "  <svg xmlns=\"http://www.w3.org/2000/svg\" height=\"24px\" viewBox=\"0 -960 960 960\">\n",
              "    <path d=\"M120-120v-720h720v720H120Zm60-500h600v-160H180v160Zm220 220h160v-160H400v160Zm0 220h160v-160H400v160ZM180-400h160v-160H180v160Zm440 0h160v-160H620v160ZM180-180h160v-160H180v160Zm440 0h160v-160H620v160Z\"/>\n",
              "  </svg>\n",
              "    </button>\n",
              "\n",
              "  <style>\n",
              "    .colab-df-container {\n",
              "      display:flex;\n",
              "      gap: 12px;\n",
              "    }\n",
              "\n",
              "    .colab-df-convert {\n",
              "      background-color: #E8F0FE;\n",
              "      border: none;\n",
              "      border-radius: 50%;\n",
              "      cursor: pointer;\n",
              "      display: none;\n",
              "      fill: #1967D2;\n",
              "      height: 32px;\n",
              "      padding: 0 0 0 0;\n",
              "      width: 32px;\n",
              "    }\n",
              "\n",
              "    .colab-df-convert:hover {\n",
              "      background-color: #E2EBFA;\n",
              "      box-shadow: 0px 1px 2px rgba(60, 64, 67, 0.3), 0px 1px 3px 1px rgba(60, 64, 67, 0.15);\n",
              "      fill: #174EA6;\n",
              "    }\n",
              "\n",
              "    .colab-df-buttons div {\n",
              "      margin-bottom: 4px;\n",
              "    }\n",
              "\n",
              "    [theme=dark] .colab-df-convert {\n",
              "      background-color: #3B4455;\n",
              "      fill: #D2E3FC;\n",
              "    }\n",
              "\n",
              "    [theme=dark] .colab-df-convert:hover {\n",
              "      background-color: #434B5C;\n",
              "      box-shadow: 0px 1px 3px 1px rgba(0, 0, 0, 0.15);\n",
              "      filter: drop-shadow(0px 1px 2px rgba(0, 0, 0, 0.3));\n",
              "      fill: #FFFFFF;\n",
              "    }\n",
              "  </style>\n",
              "\n",
              "    <script>\n",
              "      const buttonEl =\n",
              "        document.querySelector('#df-a539da75-91e3-4014-a50f-05a923efc770 button.colab-df-convert');\n",
              "      buttonEl.style.display =\n",
              "        google.colab.kernel.accessAllowed ? 'block' : 'none';\n",
              "\n",
              "      async function convertToInteractive(key) {\n",
              "        const element = document.querySelector('#df-a539da75-91e3-4014-a50f-05a923efc770');\n",
              "        const dataTable =\n",
              "          await google.colab.kernel.invokeFunction('convertToInteractive',\n",
              "                                                    [key], {});\n",
              "        if (!dataTable) return;\n",
              "\n",
              "        const docLinkHtml = 'Like what you see? Visit the ' +\n",
              "          '<a target=\"_blank\" href=https://colab.research.google.com/notebooks/data_table.ipynb>data table notebook</a>'\n",
              "          + ' to learn more about interactive tables.';\n",
              "        element.innerHTML = '';\n",
              "        dataTable['output_type'] = 'display_data';\n",
              "        await google.colab.output.renderOutput(dataTable, element);\n",
              "        const docLink = document.createElement('div');\n",
              "        docLink.innerHTML = docLinkHtml;\n",
              "        element.appendChild(docLink);\n",
              "      }\n",
              "    </script>\n",
              "  </div>\n",
              "\n",
              "\n",
              "    <div id=\"df-51a86856-f7c9-4ec2-96ae-c95767ff0aeb\">\n",
              "      <button class=\"colab-df-quickchart\" onclick=\"quickchart('df-51a86856-f7c9-4ec2-96ae-c95767ff0aeb')\"\n",
              "                title=\"Suggest charts\"\n",
              "                style=\"display:none;\">\n",
              "\n",
              "<svg xmlns=\"http://www.w3.org/2000/svg\" height=\"24px\"viewBox=\"0 0 24 24\"\n",
              "     width=\"24px\">\n",
              "    <g>\n",
              "        <path d=\"M19 3H5c-1.1 0-2 .9-2 2v14c0 1.1.9 2 2 2h14c1.1 0 2-.9 2-2V5c0-1.1-.9-2-2-2zM9 17H7v-7h2v7zm4 0h-2V7h2v10zm4 0h-2v-4h2v4z\"/>\n",
              "    </g>\n",
              "</svg>\n",
              "      </button>\n",
              "\n",
              "<style>\n",
              "  .colab-df-quickchart {\n",
              "      --bg-color: #E8F0FE;\n",
              "      --fill-color: #1967D2;\n",
              "      --hover-bg-color: #E2EBFA;\n",
              "      --hover-fill-color: #174EA6;\n",
              "      --disabled-fill-color: #AAA;\n",
              "      --disabled-bg-color: #DDD;\n",
              "  }\n",
              "\n",
              "  [theme=dark] .colab-df-quickchart {\n",
              "      --bg-color: #3B4455;\n",
              "      --fill-color: #D2E3FC;\n",
              "      --hover-bg-color: #434B5C;\n",
              "      --hover-fill-color: #FFFFFF;\n",
              "      --disabled-bg-color: #3B4455;\n",
              "      --disabled-fill-color: #666;\n",
              "  }\n",
              "\n",
              "  .colab-df-quickchart {\n",
              "    background-color: var(--bg-color);\n",
              "    border: none;\n",
              "    border-radius: 50%;\n",
              "    cursor: pointer;\n",
              "    display: none;\n",
              "    fill: var(--fill-color);\n",
              "    height: 32px;\n",
              "    padding: 0;\n",
              "    width: 32px;\n",
              "  }\n",
              "\n",
              "  .colab-df-quickchart:hover {\n",
              "    background-color: var(--hover-bg-color);\n",
              "    box-shadow: 0 1px 2px rgba(60, 64, 67, 0.3), 0 1px 3px 1px rgba(60, 64, 67, 0.15);\n",
              "    fill: var(--button-hover-fill-color);\n",
              "  }\n",
              "\n",
              "  .colab-df-quickchart-complete:disabled,\n",
              "  .colab-df-quickchart-complete:disabled:hover {\n",
              "    background-color: var(--disabled-bg-color);\n",
              "    fill: var(--disabled-fill-color);\n",
              "    box-shadow: none;\n",
              "  }\n",
              "\n",
              "  .colab-df-spinner {\n",
              "    border: 2px solid var(--fill-color);\n",
              "    border-color: transparent;\n",
              "    border-bottom-color: var(--fill-color);\n",
              "    animation:\n",
              "      spin 1s steps(1) infinite;\n",
              "  }\n",
              "\n",
              "  @keyframes spin {\n",
              "    0% {\n",
              "      border-color: transparent;\n",
              "      border-bottom-color: var(--fill-color);\n",
              "      border-left-color: var(--fill-color);\n",
              "    }\n",
              "    20% {\n",
              "      border-color: transparent;\n",
              "      border-left-color: var(--fill-color);\n",
              "      border-top-color: var(--fill-color);\n",
              "    }\n",
              "    30% {\n",
              "      border-color: transparent;\n",
              "      border-left-color: var(--fill-color);\n",
              "      border-top-color: var(--fill-color);\n",
              "      border-right-color: var(--fill-color);\n",
              "    }\n",
              "    40% {\n",
              "      border-color: transparent;\n",
              "      border-right-color: var(--fill-color);\n",
              "      border-top-color: var(--fill-color);\n",
              "    }\n",
              "    60% {\n",
              "      border-color: transparent;\n",
              "      border-right-color: var(--fill-color);\n",
              "    }\n",
              "    80% {\n",
              "      border-color: transparent;\n",
              "      border-right-color: var(--fill-color);\n",
              "      border-bottom-color: var(--fill-color);\n",
              "    }\n",
              "    90% {\n",
              "      border-color: transparent;\n",
              "      border-bottom-color: var(--fill-color);\n",
              "    }\n",
              "  }\n",
              "</style>\n",
              "\n",
              "      <script>\n",
              "        async function quickchart(key) {\n",
              "          const quickchartButtonEl =\n",
              "            document.querySelector('#' + key + ' button');\n",
              "          quickchartButtonEl.disabled = true;  // To prevent multiple clicks.\n",
              "          quickchartButtonEl.classList.add('colab-df-spinner');\n",
              "          try {\n",
              "            const charts = await google.colab.kernel.invokeFunction(\n",
              "                'suggestCharts', [key], {});\n",
              "          } catch (error) {\n",
              "            console.error('Error during call to suggestCharts:', error);\n",
              "          }\n",
              "          quickchartButtonEl.classList.remove('colab-df-spinner');\n",
              "          quickchartButtonEl.classList.add('colab-df-quickchart-complete');\n",
              "        }\n",
              "        (() => {\n",
              "          let quickchartButtonEl =\n",
              "            document.querySelector('#df-51a86856-f7c9-4ec2-96ae-c95767ff0aeb button');\n",
              "          quickchartButtonEl.style.display =\n",
              "            google.colab.kernel.accessAllowed ? 'block' : 'none';\n",
              "        })();\n",
              "      </script>\n",
              "    </div>\n",
              "    </div>\n",
              "  </div>\n"
            ],
            "application/vnd.google.colaboratory.intrinsic+json": {
              "type": "dataframe",
              "variable_name": "transactions_df"
            }
          },
          "metadata": {},
          "execution_count": 10
        }
      ]
    },
    {
      "cell_type": "code",
      "source": [
        "transactions_df['block_time'] = pd.to_datetime(transactions_df['block_time'], errors='coerce')\n",
        "transactions_df['slot'] = pd.to_numeric(transactions_df['slot'], errors='coerce')\n",
        "combined_df['slot_min'] = pd.to_numeric(combined_df['slot_min'], errors='coerce')"
      ],
      "metadata": {
        "id": "fSV5ILHEbYY1"
      },
      "execution_count": 11,
      "outputs": []
    },
    {
      "cell_type": "markdown",
      "source": [
        "# Data Merging and Preprocessing"
      ],
      "metadata": {
        "id": "QrxcLkN6btiy"
      }
    },
    {
      "cell_type": "code",
      "source": [
        "print(\"Merging data...\")\n",
        "\n",
        "transactions_df = pd.merge(\n",
        "    transactions_df,\n",
        "    combined_df[[MINT_ID, 'slot_min']],\n",
        "    left_on='base_coin',\n",
        "    right_on=MINT_ID,\n",
        "    how='left'\n",
        ")\n",
        "\n",
        "transactions_df = transactions_df[\n",
        "    transactions_df['slot'] <= transactions_df['slot_min'] + BLOCK_LIMIT\n",
        "    ]\n",
        "transactions_df.columns"
      ],
      "metadata": {
        "id": "XEsab3KNbw6Z",
        "outputId": "11c6b37e-f1fa-442d-a535-69214bed435f",
        "colab": {
          "base_uri": "https://localhost:8080/"
        }
      },
      "execution_count": 12,
      "outputs": [
        {
          "output_type": "stream",
          "name": "stdout",
          "text": [
            "Merging data...\n"
          ]
        },
        {
          "output_type": "execute_result",
          "data": {
            "text/plain": [
              "Index(['block_time', 'slot', 'tx_idx', 'signing_wallet', 'direction',\n",
              "       'base_coin', 'base_coin_amount', 'quote_coin_amount',\n",
              "       'virtual_token_balance_after', 'virtual_sol_balance_after', 'signature',\n",
              "       'provided_gas_fee', 'provided_gas_limit', 'fee', 'consumed_gas', 'mint',\n",
              "       'slot_min'],\n",
              "      dtype='object')"
            ]
          },
          "metadata": {},
          "execution_count": 12
        }
      ]
    },
    {
      "cell_type": "code",
      "source": [
        "dune_info_df = dune_info_df.rename(columns={'token_mint_address': MINT_ID})\n",
        "dune_info_df = dune_info_df[[MINT_ID, 'decimals', 'name', 'symbol', 'token_uri', 'created_at', 'init_tx']].drop_duplicates(subset=[MINT_ID], keep='first')\n",
        "dune_info_df['created_at'] = pd.to_datetime(dune_info_df['created_at'], errors='coerce')\n",
        "\n",
        "onchain_info_df = onchain_info_df.rename(columns={'mint': MINT_ID})\n",
        "onchain_info_df = onchain_info_df[[MINT_ID, 'creator', 'bundle_size', 'gas_used']].drop_duplicates(subset=[MINT_ID], keep='first')\n",
        "onchain_info_df['bundle_size'] = pd.to_numeric(onchain_info_df['bundle_size'], errors='coerce').fillna(0)\n",
        "onchain_info_df['gas_used'] = pd.to_numeric(onchain_info_df['gas_used'], errors='coerce')\n",
        "\n",
        "dune_info_df.columns, onchain_info_df.columns"
      ],
      "metadata": {
        "id": "SpmS2I8ydRWT",
        "outputId": "d212b6e2-485b-46ed-db36-1cba0c353bf4",
        "colab": {
          "base_uri": "https://localhost:8080/"
        }
      },
      "execution_count": 13,
      "outputs": [
        {
          "output_type": "execute_result",
          "data": {
            "text/plain": [
              "(Index(['mint', 'decimals', 'name', 'symbol', 'token_uri', 'created_at',\n",
              "        'init_tx'],\n",
              "       dtype='object'),\n",
              " Index(['mint', 'creator', 'bundle_size', 'gas_used'], dtype='object'))"
            ]
          },
          "metadata": {},
          "execution_count": 13
        }
      ]
    },
    {
      "cell_type": "code",
      "source": [
        "combined_df = pd.merge(combined_df, dune_info_df, on=MINT_ID, how='left')\n",
        "combined_df = pd.merge(combined_df, onchain_info_df, on=MINT_ID, how='left')\n",
        "combined_df.columns"
      ],
      "metadata": {
        "id": "sbD0QywWdYF6",
        "outputId": "4f0d687f-ccf6-4fb3-904c-f0c6e01dce77",
        "colab": {
          "base_uri": "https://localhost:8080/"
        }
      },
      "execution_count": 14,
      "outputs": [
        {
          "output_type": "execute_result",
          "data": {
            "text/plain": [
              "Index(['Unnamed: 0', 'mint', 'slot_min', 'slot_graduated', 'has_graduated',\n",
              "       'is_valid', 'is_train', 'decimals', 'name', 'symbol', 'token_uri',\n",
              "       'created_at', 'init_tx', 'creator', 'bundle_size', 'gas_used'],\n",
              "      dtype='object')"
            ]
          },
          "metadata": {},
          "execution_count": 14
        }
      ]
    }
  ]
}