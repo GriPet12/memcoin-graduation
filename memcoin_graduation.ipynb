{
  "nbformat": 4,
  "nbformat_minor": 0,
  "metadata": {
    "colab": {
      "provenance": [],
      "gpuType": "V28",
      "mount_file_id": "https://github.com/GriPet12/memcoin-graduation/blob/main/memcoin_graduation.ipynb",
      "authorship_tag": "ABX9TyP7SLqTlg1UeYHGg24RMLuE",
      "include_colab_link": true
    },
    "kernelspec": {
      "name": "python3",
      "display_name": "Python 3"
    },
    "language_info": {
      "name": "python"
    },
    "accelerator": "TPU",
    "widgets": {
      "application/vnd.jupyter.widget-state+json": {
        "c9adc6644d79426c91dcb97ff6aa39cf": {
          "model_module": "@jupyter-widgets/controls",
          "model_name": "HBoxModel",
          "model_module_version": "1.5.0",
          "state": {
            "_dom_classes": [],
            "_model_module": "@jupyter-widgets/controls",
            "_model_module_version": "1.5.0",
            "_model_name": "HBoxModel",
            "_view_count": null,
            "_view_module": "@jupyter-widgets/controls",
            "_view_module_version": "1.5.0",
            "_view_name": "HBoxView",
            "box_style": "",
            "children": [
              "IPY_MODEL_98b84c1fa6f84a508fab5e5425d926e4",
              "IPY_MODEL_57baefd561cd42b2ab0bc3f46481c013",
              "IPY_MODEL_f69f1b0ccf484c789ec89901798c0b76"
            ],
            "layout": "IPY_MODEL_0d6ff3a0375d458682b38b6a0590e75b"
          }
        },
        "98b84c1fa6f84a508fab5e5425d926e4": {
          "model_module": "@jupyter-widgets/controls",
          "model_name": "HTMLModel",
          "model_module_version": "1.5.0",
          "state": {
            "_dom_classes": [],
            "_model_module": "@jupyter-widgets/controls",
            "_model_module_version": "1.5.0",
            "_model_name": "HTMLModel",
            "_view_count": null,
            "_view_module": "@jupyter-widgets/controls",
            "_view_module_version": "1.5.0",
            "_view_name": "HTMLView",
            "description": "",
            "description_tooltip": null,
            "layout": "IPY_MODEL_4be3aba313a740b1a4096f84d90df6f3",
            "placeholder": "​",
            "style": "IPY_MODEL_b6b7e0b0fb4b45209c14055444d4754f",
            "value": "Loading chunks: 100%"
          }
        },
        "57baefd561cd42b2ab0bc3f46481c013": {
          "model_module": "@jupyter-widgets/controls",
          "model_name": "FloatProgressModel",
          "model_module_version": "1.5.0",
          "state": {
            "_dom_classes": [],
            "_model_module": "@jupyter-widgets/controls",
            "_model_module_version": "1.5.0",
            "_model_name": "FloatProgressModel",
            "_view_count": null,
            "_view_module": "@jupyter-widgets/controls",
            "_view_module_version": "1.5.0",
            "_view_name": "ProgressView",
            "bar_style": "success",
            "description": "",
            "description_tooltip": null,
            "layout": "IPY_MODEL_2ffa8971c91d4108ad9016d86cd2dc72",
            "max": 41,
            "min": 0,
            "orientation": "horizontal",
            "style": "IPY_MODEL_b25c79d1138d4903a9c4359778eebfe8",
            "value": 41
          }
        },
        "f69f1b0ccf484c789ec89901798c0b76": {
          "model_module": "@jupyter-widgets/controls",
          "model_name": "HTMLModel",
          "model_module_version": "1.5.0",
          "state": {
            "_dom_classes": [],
            "_model_module": "@jupyter-widgets/controls",
            "_model_module_version": "1.5.0",
            "_model_name": "HTMLModel",
            "_view_count": null,
            "_view_module": "@jupyter-widgets/controls",
            "_view_module_version": "1.5.0",
            "_view_name": "HTMLView",
            "description": "",
            "description_tooltip": null,
            "layout": "IPY_MODEL_6a8e5f7313dd44bb80f369daf5881eb5",
            "placeholder": "​",
            "style": "IPY_MODEL_01b161db61d542e8b88e39ac7ceeb971",
            "value": " 41/41 [02:36&lt;00:00,  3.97s/it]"
          }
        },
        "0d6ff3a0375d458682b38b6a0590e75b": {
          "model_module": "@jupyter-widgets/base",
          "model_name": "LayoutModel",
          "model_module_version": "1.2.0",
          "state": {
            "_model_module": "@jupyter-widgets/base",
            "_model_module_version": "1.2.0",
            "_model_name": "LayoutModel",
            "_view_count": null,
            "_view_module": "@jupyter-widgets/base",
            "_view_module_version": "1.2.0",
            "_view_name": "LayoutView",
            "align_content": null,
            "align_items": null,
            "align_self": null,
            "border": null,
            "bottom": null,
            "display": null,
            "flex": null,
            "flex_flow": null,
            "grid_area": null,
            "grid_auto_columns": null,
            "grid_auto_flow": null,
            "grid_auto_rows": null,
            "grid_column": null,
            "grid_gap": null,
            "grid_row": null,
            "grid_template_areas": null,
            "grid_template_columns": null,
            "grid_template_rows": null,
            "height": null,
            "justify_content": null,
            "justify_items": null,
            "left": null,
            "margin": null,
            "max_height": null,
            "max_width": null,
            "min_height": null,
            "min_width": null,
            "object_fit": null,
            "object_position": null,
            "order": null,
            "overflow": null,
            "overflow_x": null,
            "overflow_y": null,
            "padding": null,
            "right": null,
            "top": null,
            "visibility": null,
            "width": null
          }
        },
        "4be3aba313a740b1a4096f84d90df6f3": {
          "model_module": "@jupyter-widgets/base",
          "model_name": "LayoutModel",
          "model_module_version": "1.2.0",
          "state": {
            "_model_module": "@jupyter-widgets/base",
            "_model_module_version": "1.2.0",
            "_model_name": "LayoutModel",
            "_view_count": null,
            "_view_module": "@jupyter-widgets/base",
            "_view_module_version": "1.2.0",
            "_view_name": "LayoutView",
            "align_content": null,
            "align_items": null,
            "align_self": null,
            "border": null,
            "bottom": null,
            "display": null,
            "flex": null,
            "flex_flow": null,
            "grid_area": null,
            "grid_auto_columns": null,
            "grid_auto_flow": null,
            "grid_auto_rows": null,
            "grid_column": null,
            "grid_gap": null,
            "grid_row": null,
            "grid_template_areas": null,
            "grid_template_columns": null,
            "grid_template_rows": null,
            "height": null,
            "justify_content": null,
            "justify_items": null,
            "left": null,
            "margin": null,
            "max_height": null,
            "max_width": null,
            "min_height": null,
            "min_width": null,
            "object_fit": null,
            "object_position": null,
            "order": null,
            "overflow": null,
            "overflow_x": null,
            "overflow_y": null,
            "padding": null,
            "right": null,
            "top": null,
            "visibility": null,
            "width": null
          }
        },
        "b6b7e0b0fb4b45209c14055444d4754f": {
          "model_module": "@jupyter-widgets/controls",
          "model_name": "DescriptionStyleModel",
          "model_module_version": "1.5.0",
          "state": {
            "_model_module": "@jupyter-widgets/controls",
            "_model_module_version": "1.5.0",
            "_model_name": "DescriptionStyleModel",
            "_view_count": null,
            "_view_module": "@jupyter-widgets/base",
            "_view_module_version": "1.2.0",
            "_view_name": "StyleView",
            "description_width": ""
          }
        },
        "2ffa8971c91d4108ad9016d86cd2dc72": {
          "model_module": "@jupyter-widgets/base",
          "model_name": "LayoutModel",
          "model_module_version": "1.2.0",
          "state": {
            "_model_module": "@jupyter-widgets/base",
            "_model_module_version": "1.2.0",
            "_model_name": "LayoutModel",
            "_view_count": null,
            "_view_module": "@jupyter-widgets/base",
            "_view_module_version": "1.2.0",
            "_view_name": "LayoutView",
            "align_content": null,
            "align_items": null,
            "align_self": null,
            "border": null,
            "bottom": null,
            "display": null,
            "flex": null,
            "flex_flow": null,
            "grid_area": null,
            "grid_auto_columns": null,
            "grid_auto_flow": null,
            "grid_auto_rows": null,
            "grid_column": null,
            "grid_gap": null,
            "grid_row": null,
            "grid_template_areas": null,
            "grid_template_columns": null,
            "grid_template_rows": null,
            "height": null,
            "justify_content": null,
            "justify_items": null,
            "left": null,
            "margin": null,
            "max_height": null,
            "max_width": null,
            "min_height": null,
            "min_width": null,
            "object_fit": null,
            "object_position": null,
            "order": null,
            "overflow": null,
            "overflow_x": null,
            "overflow_y": null,
            "padding": null,
            "right": null,
            "top": null,
            "visibility": null,
            "width": null
          }
        },
        "b25c79d1138d4903a9c4359778eebfe8": {
          "model_module": "@jupyter-widgets/controls",
          "model_name": "ProgressStyleModel",
          "model_module_version": "1.5.0",
          "state": {
            "_model_module": "@jupyter-widgets/controls",
            "_model_module_version": "1.5.0",
            "_model_name": "ProgressStyleModel",
            "_view_count": null,
            "_view_module": "@jupyter-widgets/base",
            "_view_module_version": "1.2.0",
            "_view_name": "StyleView",
            "bar_color": null,
            "description_width": ""
          }
        },
        "6a8e5f7313dd44bb80f369daf5881eb5": {
          "model_module": "@jupyter-widgets/base",
          "model_name": "LayoutModel",
          "model_module_version": "1.2.0",
          "state": {
            "_model_module": "@jupyter-widgets/base",
            "_model_module_version": "1.2.0",
            "_model_name": "LayoutModel",
            "_view_count": null,
            "_view_module": "@jupyter-widgets/base",
            "_view_module_version": "1.2.0",
            "_view_name": "LayoutView",
            "align_content": null,
            "align_items": null,
            "align_self": null,
            "border": null,
            "bottom": null,
            "display": null,
            "flex": null,
            "flex_flow": null,
            "grid_area": null,
            "grid_auto_columns": null,
            "grid_auto_flow": null,
            "grid_auto_rows": null,
            "grid_column": null,
            "grid_gap": null,
            "grid_row": null,
            "grid_template_areas": null,
            "grid_template_columns": null,
            "grid_template_rows": null,
            "height": null,
            "justify_content": null,
            "justify_items": null,
            "left": null,
            "margin": null,
            "max_height": null,
            "max_width": null,
            "min_height": null,
            "min_width": null,
            "object_fit": null,
            "object_position": null,
            "order": null,
            "overflow": null,
            "overflow_x": null,
            "overflow_y": null,
            "padding": null,
            "right": null,
            "top": null,
            "visibility": null,
            "width": null
          }
        },
        "01b161db61d542e8b88e39ac7ceeb971": {
          "model_module": "@jupyter-widgets/controls",
          "model_name": "DescriptionStyleModel",
          "model_module_version": "1.5.0",
          "state": {
            "_model_module": "@jupyter-widgets/controls",
            "_model_module_version": "1.5.0",
            "_model_name": "DescriptionStyleModel",
            "_view_count": null,
            "_view_module": "@jupyter-widgets/base",
            "_view_module_version": "1.2.0",
            "_view_name": "StyleView",
            "description_width": ""
          }
        }
      }
    }
  },
  "cells": [
    {
      "cell_type": "markdown",
      "metadata": {
        "id": "view-in-github",
        "colab_type": "text"
      },
      "source": [
        "<a href=\"https://colab.research.google.com/github/GriPet12/memcoin-graduation/blob/main/memcoin_graduation.ipynb\" target=\"_parent\"><img src=\"https://colab.research.google.com/assets/colab-badge.svg\" alt=\"Open In Colab\"/></a>"
      ]
    },
    {
      "cell_type": "markdown",
      "source": [
        "# Import"
      ],
      "metadata": {
        "id": "ESyN4GCcXrH3"
      }
    },
    {
      "cell_type": "code",
      "source": [
        "!pip install lightgbm"
      ],
      "metadata": {
        "colab": {
          "base_uri": "https://localhost:8080/"
        },
        "id": "RU5Rm703Yn9Z",
        "outputId": "58715aa5-5555-4a92-ad7a-40279e7246b9"
      },
      "execution_count": 26,
      "outputs": [
        {
          "output_type": "stream",
          "name": "stdout",
          "text": [
            "Requirement already satisfied: lightgbm in /usr/local/lib/python3.11/dist-packages (4.6.0)\n",
            "Requirement already satisfied: numpy>=1.17.0 in /usr/local/lib/python3.11/dist-packages (from lightgbm) (2.0.2)\n",
            "Requirement already satisfied: scipy in /usr/local/lib/python3.11/dist-packages (from lightgbm) (1.15.3)\n"
          ]
        }
      ]
    },
    {
      "cell_type": "code",
      "execution_count": 27,
      "metadata": {
        "id": "My4ddd3X-Fcf"
      },
      "outputs": [],
      "source": [
        "import pandas as pd\n",
        "import numpy as np\n",
        "import glob\n",
        "import os\n",
        "import gc\n",
        "from tqdm.auto import tqdm\n",
        "\n",
        "# Modeling & Evaluation\n",
        "from sklearn.model_selection import StratifiedKFold\n",
        "from sklearn.preprocessing import LabelEncoder\n",
        "import lightgbm as lgb\n",
        "from sklearn.metrics import log_loss"
      ]
    },
    {
      "cell_type": "markdown",
      "source": [
        "# Configuration"
      ],
      "metadata": {
        "id": "i1STWE1AXo5d"
      }
    },
    {
      "cell_type": "code",
      "source": [
        "DATA_PATH = '/content/drive/MyDrive/memcoin-graduation/pump-fun-graduation-february-2025'\n",
        "CHUNK_PATTERN = os.path.join(DATA_PATH, 'chunk*.csv')\n",
        "TRAIN_FILE = os.path.join(DATA_PATH, 'train.csv')\n",
        "TEST_FILE = os.path.join(DATA_PATH, 'test_unlabeled.csv')\n",
        "DUNE_INFO_FILE = os.path.join(DATA_PATH, 'dune_token_info.csv')\n",
        "ONCHAIN_INFO_FILE = os.path.join(DATA_PATH, 'token_info_onchain_divers.csv')\n",
        "SUBMISSION_FILE = 'submission.csv'\n",
        "\n",
        "TARGET = 'has_graduated'\n",
        "MINT_ID = 'mint'\n",
        "BLOCK_LIMIT = 100 # Only use data from first 100 blocks post-mint\n",
        "N_SPLITS = 5 # Number of folds for cross-validation\n",
        "RANDOM_SEED = 42"
      ],
      "metadata": {
        "id": "HDXD36poZFRF"
      },
      "execution_count": 3,
      "outputs": []
    },
    {
      "cell_type": "markdown",
      "source": [
        "# Load Data"
      ],
      "metadata": {
        "id": "y6FopxF_Z_I5"
      }
    },
    {
      "cell_type": "code",
      "source": [
        "print(\"Loading data...\")\n",
        "train_df = pd.read_csv(TRAIN_FILE)\n",
        "test_df = pd.read_csv(TEST_FILE)\n",
        "dune_info_df = pd.read_csv(DUNE_INFO_FILE)\n",
        "onchain_info_df = pd.read_csv(ONCHAIN_INFO_FILE)\n",
        "\n",
        "train_df['is_train'] = 1\n",
        "test_df['is_train'] = 0\n",
        "combined_df = pd.concat([train_df, test_df], ignore_index=True)\n",
        "\n",
        "all_chunk_files = glob.glob(CHUNK_PATTERN)\n",
        "print(f\"Found {len(all_chunk_files)} chunk files.\")\n",
        "\n",
        "chunk_list = []\n",
        "for f in tqdm(all_chunk_files, desc=\"Loading chunks\"):\n",
        "    try:\n",
        "        chunk_list.append(pd.read_csv(f))\n",
        "    except Exception as e:\n",
        "        print(f\"Error loading {f}: {e}\")\n",
        "if not chunk_list:\n",
        "    raise ValueError(\"No chunk files loaded. Check CHUNK_PATTERN and file existence.\")\n",
        "\n",
        "transactions_df = pd.concat(chunk_list, ignore_index=True)"
      ],
      "metadata": {
        "colab": {
          "base_uri": "https://localhost:8080/",
          "height": 118,
          "referenced_widgets": [
            "c9adc6644d79426c91dcb97ff6aa39cf",
            "98b84c1fa6f84a508fab5e5425d926e4",
            "57baefd561cd42b2ab0bc3f46481c013",
            "f69f1b0ccf484c789ec89901798c0b76",
            "0d6ff3a0375d458682b38b6a0590e75b",
            "4be3aba313a740b1a4096f84d90df6f3",
            "b6b7e0b0fb4b45209c14055444d4754f",
            "2ffa8971c91d4108ad9016d86cd2dc72",
            "b25c79d1138d4903a9c4359778eebfe8",
            "6a8e5f7313dd44bb80f369daf5881eb5",
            "01b161db61d542e8b88e39ac7ceeb971"
          ]
        },
        "id": "sras5flaZ9jn",
        "outputId": "5a119bbe-b5a6-4fe4-a7cd-96b13cf62401"
      },
      "execution_count": 4,
      "outputs": [
        {
          "output_type": "stream",
          "name": "stdout",
          "text": [
            "Loading data...\n"
          ]
        },
        {
          "output_type": "stream",
          "name": "stderr",
          "text": [
            "<ipython-input-4-3ee4f091b291>:5: DtypeWarning: Columns (1,2) have mixed types. Specify dtype option on import or set low_memory=False.\n",
            "  onchain_info_df = pd.read_csv(ONCHAIN_INFO_FILE)\n"
          ]
        },
        {
          "output_type": "stream",
          "name": "stdout",
          "text": [
            "Found 41 chunk files.\n"
          ]
        },
        {
          "output_type": "display_data",
          "data": {
            "text/plain": [
              "Loading chunks:   0%|          | 0/41 [00:00<?, ?it/s]"
            ],
            "application/vnd.jupyter.widget-view+json": {
              "version_major": 2,
              "version_minor": 0,
              "model_id": "c9adc6644d79426c91dcb97ff6aa39cf"
            }
          },
          "metadata": {}
        }
      ]
    },
    {
      "cell_type": "code",
      "source": [
        "transactions_df.head()"
      ],
      "metadata": {
        "colab": {
          "base_uri": "https://localhost:8080/",
          "height": 313
        },
        "id": "7J92b_y_bUbf",
        "outputId": "8fb8a9be-5f37-4f9d-b7ba-3baa5ae73482"
      },
      "execution_count": 5,
      "outputs": [
        {
          "output_type": "execute_result",
          "data": {
            "text/plain": [
              "            block_time       slot  tx_idx  \\\n",
              "0  2025-02-01 16:00:00  317876496    1897   \n",
              "1  2025-02-01 16:00:00  317876496    1794   \n",
              "2  2025-02-01 16:00:00  317876496    1880   \n",
              "3  2025-02-01 16:00:01  317876499    1350   \n",
              "4  2025-02-01 16:00:01  317876500    2389   \n",
              "\n",
              "                                 signing_wallet direction  \\\n",
              "0  EXoaGQc1taATjsXVPXhnVYddW4KiM1uQRhrYDdfi1x7b       buy   \n",
              "1  9Ypu1cMva6dE6k9Zk4aSSmSgJvMmJLTWXuGQhTYqt8mx       buy   \n",
              "2  3njxeVx5TjDYD27C1YsZW2JQzgmoYeATambcbw7Xn1ft      sell   \n",
              "3  DjZ1Cpxp6uKvYHU678QkjFj8XKfUwAmCtxUMG5QuBdJT       buy   \n",
              "4  6WgXuHPo9xWu1Mzt8hULYWFwpyh1WwhByPYjsF23h41A       buy   \n",
              "\n",
              "                                      base_coin  base_coin_amount  \\\n",
              "0   Ab2voNJxp9xM2sdoF6JRJV8dtZ6hGm8yMSt3xAMpump     5208861189189   \n",
              "1  BmTDA5HqcemLkEgpyK25sDhbvk652CTXjdWEa8fLpump     1785357737104   \n",
              "2  FZ8wX1RAwV72gniwc9quiZSXHnrECQwoCxAXCWRipump      721068391933   \n",
              "3  BmTDA5HqcemLkEgpyK25sDhbvk652CTXjdWEa8fLpump   115855160976852   \n",
              "4  4FJwryCAMMePNeWw9LTBXXfXABdkKcAxkTT6h9pdpump    67062499999999   \n",
              "\n",
              "   quote_coin_amount  virtual_token_balance_after  virtual_sol_balance_after  \\\n",
              "0          150740503             1052069532604495                30596837025   \n",
              "1           50000000             1071214642262896                30050000000   \n",
              "2           22610289             1013561711601751                31759289915   \n",
              "3         3644123135              955359481286044                33694123135   \n",
              "4         2000000000             1005937500000001                32000000000   \n",
              "\n",
              "                                           signature  provided_gas_fee  \\\n",
              "0  3Td5mZpy63TNuyHncgpJFvPudbU3fKcRaeTbqTRsdSLKnN...           3982833   \n",
              "1  3HHvJsNKWg6epToaZUouqDJdkysiJGKeBkWnhg7sPyWpFY...           9475209   \n",
              "2  2rfHemwRWv9t2xuY2umAq2aQrx8Gn73g6tAEDBTE2yrzcf...           4624039   \n",
              "3  Ky5DURUWgB7N3NfNAx5jf7a23pecQAwxbcwuwaWE2MPk7R...         170888000   \n",
              "4  4rSq4SK7a6zb2hNV6x89DfwZ9XFAyy4sp1g9YQfuG8A3Ep...            100000   \n",
              "\n",
              "   provided_gas_limit       fee  consumed_gas  \n",
              "0              200862    805000        161488  \n",
              "1              194994   1857609        194994  \n",
              "2              162000    754095         78540  \n",
              "3               80000  13676040         62135  \n",
              "4              500000     60000        201798  "
            ],
            "text/html": [
              "\n",
              "  <div id=\"df-0c8dfaeb-794d-465e-8e0f-5a23f6a3c918\" class=\"colab-df-container\">\n",
              "    <div>\n",
              "<style scoped>\n",
              "    .dataframe tbody tr th:only-of-type {\n",
              "        vertical-align: middle;\n",
              "    }\n",
              "\n",
              "    .dataframe tbody tr th {\n",
              "        vertical-align: top;\n",
              "    }\n",
              "\n",
              "    .dataframe thead th {\n",
              "        text-align: right;\n",
              "    }\n",
              "</style>\n",
              "<table border=\"1\" class=\"dataframe\">\n",
              "  <thead>\n",
              "    <tr style=\"text-align: right;\">\n",
              "      <th></th>\n",
              "      <th>block_time</th>\n",
              "      <th>slot</th>\n",
              "      <th>tx_idx</th>\n",
              "      <th>signing_wallet</th>\n",
              "      <th>direction</th>\n",
              "      <th>base_coin</th>\n",
              "      <th>base_coin_amount</th>\n",
              "      <th>quote_coin_amount</th>\n",
              "      <th>virtual_token_balance_after</th>\n",
              "      <th>virtual_sol_balance_after</th>\n",
              "      <th>signature</th>\n",
              "      <th>provided_gas_fee</th>\n",
              "      <th>provided_gas_limit</th>\n",
              "      <th>fee</th>\n",
              "      <th>consumed_gas</th>\n",
              "    </tr>\n",
              "  </thead>\n",
              "  <tbody>\n",
              "    <tr>\n",
              "      <th>0</th>\n",
              "      <td>2025-02-01 16:00:00</td>\n",
              "      <td>317876496</td>\n",
              "      <td>1897</td>\n",
              "      <td>EXoaGQc1taATjsXVPXhnVYddW4KiM1uQRhrYDdfi1x7b</td>\n",
              "      <td>buy</td>\n",
              "      <td>Ab2voNJxp9xM2sdoF6JRJV8dtZ6hGm8yMSt3xAMpump</td>\n",
              "      <td>5208861189189</td>\n",
              "      <td>150740503</td>\n",
              "      <td>1052069532604495</td>\n",
              "      <td>30596837025</td>\n",
              "      <td>3Td5mZpy63TNuyHncgpJFvPudbU3fKcRaeTbqTRsdSLKnN...</td>\n",
              "      <td>3982833</td>\n",
              "      <td>200862</td>\n",
              "      <td>805000</td>\n",
              "      <td>161488</td>\n",
              "    </tr>\n",
              "    <tr>\n",
              "      <th>1</th>\n",
              "      <td>2025-02-01 16:00:00</td>\n",
              "      <td>317876496</td>\n",
              "      <td>1794</td>\n",
              "      <td>9Ypu1cMva6dE6k9Zk4aSSmSgJvMmJLTWXuGQhTYqt8mx</td>\n",
              "      <td>buy</td>\n",
              "      <td>BmTDA5HqcemLkEgpyK25sDhbvk652CTXjdWEa8fLpump</td>\n",
              "      <td>1785357737104</td>\n",
              "      <td>50000000</td>\n",
              "      <td>1071214642262896</td>\n",
              "      <td>30050000000</td>\n",
              "      <td>3HHvJsNKWg6epToaZUouqDJdkysiJGKeBkWnhg7sPyWpFY...</td>\n",
              "      <td>9475209</td>\n",
              "      <td>194994</td>\n",
              "      <td>1857609</td>\n",
              "      <td>194994</td>\n",
              "    </tr>\n",
              "    <tr>\n",
              "      <th>2</th>\n",
              "      <td>2025-02-01 16:00:00</td>\n",
              "      <td>317876496</td>\n",
              "      <td>1880</td>\n",
              "      <td>3njxeVx5TjDYD27C1YsZW2JQzgmoYeATambcbw7Xn1ft</td>\n",
              "      <td>sell</td>\n",
              "      <td>FZ8wX1RAwV72gniwc9quiZSXHnrECQwoCxAXCWRipump</td>\n",
              "      <td>721068391933</td>\n",
              "      <td>22610289</td>\n",
              "      <td>1013561711601751</td>\n",
              "      <td>31759289915</td>\n",
              "      <td>2rfHemwRWv9t2xuY2umAq2aQrx8Gn73g6tAEDBTE2yrzcf...</td>\n",
              "      <td>4624039</td>\n",
              "      <td>162000</td>\n",
              "      <td>754095</td>\n",
              "      <td>78540</td>\n",
              "    </tr>\n",
              "    <tr>\n",
              "      <th>3</th>\n",
              "      <td>2025-02-01 16:00:01</td>\n",
              "      <td>317876499</td>\n",
              "      <td>1350</td>\n",
              "      <td>DjZ1Cpxp6uKvYHU678QkjFj8XKfUwAmCtxUMG5QuBdJT</td>\n",
              "      <td>buy</td>\n",
              "      <td>BmTDA5HqcemLkEgpyK25sDhbvk652CTXjdWEa8fLpump</td>\n",
              "      <td>115855160976852</td>\n",
              "      <td>3644123135</td>\n",
              "      <td>955359481286044</td>\n",
              "      <td>33694123135</td>\n",
              "      <td>Ky5DURUWgB7N3NfNAx5jf7a23pecQAwxbcwuwaWE2MPk7R...</td>\n",
              "      <td>170888000</td>\n",
              "      <td>80000</td>\n",
              "      <td>13676040</td>\n",
              "      <td>62135</td>\n",
              "    </tr>\n",
              "    <tr>\n",
              "      <th>4</th>\n",
              "      <td>2025-02-01 16:00:01</td>\n",
              "      <td>317876500</td>\n",
              "      <td>2389</td>\n",
              "      <td>6WgXuHPo9xWu1Mzt8hULYWFwpyh1WwhByPYjsF23h41A</td>\n",
              "      <td>buy</td>\n",
              "      <td>4FJwryCAMMePNeWw9LTBXXfXABdkKcAxkTT6h9pdpump</td>\n",
              "      <td>67062499999999</td>\n",
              "      <td>2000000000</td>\n",
              "      <td>1005937500000001</td>\n",
              "      <td>32000000000</td>\n",
              "      <td>4rSq4SK7a6zb2hNV6x89DfwZ9XFAyy4sp1g9YQfuG8A3Ep...</td>\n",
              "      <td>100000</td>\n",
              "      <td>500000</td>\n",
              "      <td>60000</td>\n",
              "      <td>201798</td>\n",
              "    </tr>\n",
              "  </tbody>\n",
              "</table>\n",
              "</div>\n",
              "    <div class=\"colab-df-buttons\">\n",
              "\n",
              "  <div class=\"colab-df-container\">\n",
              "    <button class=\"colab-df-convert\" onclick=\"convertToInteractive('df-0c8dfaeb-794d-465e-8e0f-5a23f6a3c918')\"\n",
              "            title=\"Convert this dataframe to an interactive table.\"\n",
              "            style=\"display:none;\">\n",
              "\n",
              "  <svg xmlns=\"http://www.w3.org/2000/svg\" height=\"24px\" viewBox=\"0 -960 960 960\">\n",
              "    <path d=\"M120-120v-720h720v720H120Zm60-500h600v-160H180v160Zm220 220h160v-160H400v160Zm0 220h160v-160H400v160ZM180-400h160v-160H180v160Zm440 0h160v-160H620v160ZM180-180h160v-160H180v160Zm440 0h160v-160H620v160Z\"/>\n",
              "  </svg>\n",
              "    </button>\n",
              "\n",
              "  <style>\n",
              "    .colab-df-container {\n",
              "      display:flex;\n",
              "      gap: 12px;\n",
              "    }\n",
              "\n",
              "    .colab-df-convert {\n",
              "      background-color: #E8F0FE;\n",
              "      border: none;\n",
              "      border-radius: 50%;\n",
              "      cursor: pointer;\n",
              "      display: none;\n",
              "      fill: #1967D2;\n",
              "      height: 32px;\n",
              "      padding: 0 0 0 0;\n",
              "      width: 32px;\n",
              "    }\n",
              "\n",
              "    .colab-df-convert:hover {\n",
              "      background-color: #E2EBFA;\n",
              "      box-shadow: 0px 1px 2px rgba(60, 64, 67, 0.3), 0px 1px 3px 1px rgba(60, 64, 67, 0.15);\n",
              "      fill: #174EA6;\n",
              "    }\n",
              "\n",
              "    .colab-df-buttons div {\n",
              "      margin-bottom: 4px;\n",
              "    }\n",
              "\n",
              "    [theme=dark] .colab-df-convert {\n",
              "      background-color: #3B4455;\n",
              "      fill: #D2E3FC;\n",
              "    }\n",
              "\n",
              "    [theme=dark] .colab-df-convert:hover {\n",
              "      background-color: #434B5C;\n",
              "      box-shadow: 0px 1px 3px 1px rgba(0, 0, 0, 0.15);\n",
              "      filter: drop-shadow(0px 1px 2px rgba(0, 0, 0, 0.3));\n",
              "      fill: #FFFFFF;\n",
              "    }\n",
              "  </style>\n",
              "\n",
              "    <script>\n",
              "      const buttonEl =\n",
              "        document.querySelector('#df-0c8dfaeb-794d-465e-8e0f-5a23f6a3c918 button.colab-df-convert');\n",
              "      buttonEl.style.display =\n",
              "        google.colab.kernel.accessAllowed ? 'block' : 'none';\n",
              "\n",
              "      async function convertToInteractive(key) {\n",
              "        const element = document.querySelector('#df-0c8dfaeb-794d-465e-8e0f-5a23f6a3c918');\n",
              "        const dataTable =\n",
              "          await google.colab.kernel.invokeFunction('convertToInteractive',\n",
              "                                                    [key], {});\n",
              "        if (!dataTable) return;\n",
              "\n",
              "        const docLinkHtml = 'Like what you see? Visit the ' +\n",
              "          '<a target=\"_blank\" href=https://colab.research.google.com/notebooks/data_table.ipynb>data table notebook</a>'\n",
              "          + ' to learn more about interactive tables.';\n",
              "        element.innerHTML = '';\n",
              "        dataTable['output_type'] = 'display_data';\n",
              "        await google.colab.output.renderOutput(dataTable, element);\n",
              "        const docLink = document.createElement('div');\n",
              "        docLink.innerHTML = docLinkHtml;\n",
              "        element.appendChild(docLink);\n",
              "      }\n",
              "    </script>\n",
              "  </div>\n",
              "\n",
              "\n",
              "    <div id=\"df-cb6c31fb-d722-4c49-b39e-2d487d87e2a1\">\n",
              "      <button class=\"colab-df-quickchart\" onclick=\"quickchart('df-cb6c31fb-d722-4c49-b39e-2d487d87e2a1')\"\n",
              "                title=\"Suggest charts\"\n",
              "                style=\"display:none;\">\n",
              "\n",
              "<svg xmlns=\"http://www.w3.org/2000/svg\" height=\"24px\"viewBox=\"0 0 24 24\"\n",
              "     width=\"24px\">\n",
              "    <g>\n",
              "        <path d=\"M19 3H5c-1.1 0-2 .9-2 2v14c0 1.1.9 2 2 2h14c1.1 0 2-.9 2-2V5c0-1.1-.9-2-2-2zM9 17H7v-7h2v7zm4 0h-2V7h2v10zm4 0h-2v-4h2v4z\"/>\n",
              "    </g>\n",
              "</svg>\n",
              "      </button>\n",
              "\n",
              "<style>\n",
              "  .colab-df-quickchart {\n",
              "      --bg-color: #E8F0FE;\n",
              "      --fill-color: #1967D2;\n",
              "      --hover-bg-color: #E2EBFA;\n",
              "      --hover-fill-color: #174EA6;\n",
              "      --disabled-fill-color: #AAA;\n",
              "      --disabled-bg-color: #DDD;\n",
              "  }\n",
              "\n",
              "  [theme=dark] .colab-df-quickchart {\n",
              "      --bg-color: #3B4455;\n",
              "      --fill-color: #D2E3FC;\n",
              "      --hover-bg-color: #434B5C;\n",
              "      --hover-fill-color: #FFFFFF;\n",
              "      --disabled-bg-color: #3B4455;\n",
              "      --disabled-fill-color: #666;\n",
              "  }\n",
              "\n",
              "  .colab-df-quickchart {\n",
              "    background-color: var(--bg-color);\n",
              "    border: none;\n",
              "    border-radius: 50%;\n",
              "    cursor: pointer;\n",
              "    display: none;\n",
              "    fill: var(--fill-color);\n",
              "    height: 32px;\n",
              "    padding: 0;\n",
              "    width: 32px;\n",
              "  }\n",
              "\n",
              "  .colab-df-quickchart:hover {\n",
              "    background-color: var(--hover-bg-color);\n",
              "    box-shadow: 0 1px 2px rgba(60, 64, 67, 0.3), 0 1px 3px 1px rgba(60, 64, 67, 0.15);\n",
              "    fill: var(--button-hover-fill-color);\n",
              "  }\n",
              "\n",
              "  .colab-df-quickchart-complete:disabled,\n",
              "  .colab-df-quickchart-complete:disabled:hover {\n",
              "    background-color: var(--disabled-bg-color);\n",
              "    fill: var(--disabled-fill-color);\n",
              "    box-shadow: none;\n",
              "  }\n",
              "\n",
              "  .colab-df-spinner {\n",
              "    border: 2px solid var(--fill-color);\n",
              "    border-color: transparent;\n",
              "    border-bottom-color: var(--fill-color);\n",
              "    animation:\n",
              "      spin 1s steps(1) infinite;\n",
              "  }\n",
              "\n",
              "  @keyframes spin {\n",
              "    0% {\n",
              "      border-color: transparent;\n",
              "      border-bottom-color: var(--fill-color);\n",
              "      border-left-color: var(--fill-color);\n",
              "    }\n",
              "    20% {\n",
              "      border-color: transparent;\n",
              "      border-left-color: var(--fill-color);\n",
              "      border-top-color: var(--fill-color);\n",
              "    }\n",
              "    30% {\n",
              "      border-color: transparent;\n",
              "      border-left-color: var(--fill-color);\n",
              "      border-top-color: var(--fill-color);\n",
              "      border-right-color: var(--fill-color);\n",
              "    }\n",
              "    40% {\n",
              "      border-color: transparent;\n",
              "      border-right-color: var(--fill-color);\n",
              "      border-top-color: var(--fill-color);\n",
              "    }\n",
              "    60% {\n",
              "      border-color: transparent;\n",
              "      border-right-color: var(--fill-color);\n",
              "    }\n",
              "    80% {\n",
              "      border-color: transparent;\n",
              "      border-right-color: var(--fill-color);\n",
              "      border-bottom-color: var(--fill-color);\n",
              "    }\n",
              "    90% {\n",
              "      border-color: transparent;\n",
              "      border-bottom-color: var(--fill-color);\n",
              "    }\n",
              "  }\n",
              "</style>\n",
              "\n",
              "      <script>\n",
              "        async function quickchart(key) {\n",
              "          const quickchartButtonEl =\n",
              "            document.querySelector('#' + key + ' button');\n",
              "          quickchartButtonEl.disabled = true;  // To prevent multiple clicks.\n",
              "          quickchartButtonEl.classList.add('colab-df-spinner');\n",
              "          try {\n",
              "            const charts = await google.colab.kernel.invokeFunction(\n",
              "                'suggestCharts', [key], {});\n",
              "          } catch (error) {\n",
              "            console.error('Error during call to suggestCharts:', error);\n",
              "          }\n",
              "          quickchartButtonEl.classList.remove('colab-df-spinner');\n",
              "          quickchartButtonEl.classList.add('colab-df-quickchart-complete');\n",
              "        }\n",
              "        (() => {\n",
              "          let quickchartButtonEl =\n",
              "            document.querySelector('#df-cb6c31fb-d722-4c49-b39e-2d487d87e2a1 button');\n",
              "          quickchartButtonEl.style.display =\n",
              "            google.colab.kernel.accessAllowed ? 'block' : 'none';\n",
              "        })();\n",
              "      </script>\n",
              "    </div>\n",
              "    </div>\n",
              "  </div>\n"
            ],
            "application/vnd.google.colaboratory.intrinsic+json": {
              "type": "dataframe",
              "variable_name": "transactions_df"
            }
          },
          "metadata": {},
          "execution_count": 5
        }
      ]
    },
    {
      "cell_type": "code",
      "source": [
        "transactions_df['block_time'] = pd.to_datetime(transactions_df['block_time'], errors='coerce')\n",
        "transactions_df['slot'] = pd.to_numeric(transactions_df['slot'], errors='coerce')\n",
        "combined_df['slot_min'] = pd.to_numeric(combined_df['slot_min'], errors='coerce')"
      ],
      "metadata": {
        "id": "fSV5ILHEbYY1"
      },
      "execution_count": 6,
      "outputs": []
    },
    {
      "cell_type": "markdown",
      "source": [
        "# Data Merging and Preprocessing"
      ],
      "metadata": {
        "id": "QrxcLkN6btiy"
      }
    },
    {
      "cell_type": "code",
      "source": [
        "print(\"Merging data...\")\n",
        "\n",
        "transactions_df = pd.merge(\n",
        "    transactions_df,\n",
        "    combined_df[[MINT_ID, 'slot_min']],\n",
        "    left_on='base_coin',\n",
        "    right_on=MINT_ID,\n",
        "    how='left'\n",
        ")\n",
        "\n",
        "transactions_df = transactions_df[\n",
        "    transactions_df['slot'] <= transactions_df['slot_min'] + BLOCK_LIMIT\n",
        "    ]\n",
        "transactions_df.columns"
      ],
      "metadata": {
        "colab": {
          "base_uri": "https://localhost:8080/"
        },
        "id": "XEsab3KNbw6Z",
        "outputId": "0da1f685-1f24-48fa-fc84-5c0f99ff5b98"
      },
      "execution_count": 7,
      "outputs": [
        {
          "output_type": "stream",
          "name": "stdout",
          "text": [
            "Merging data...\n"
          ]
        },
        {
          "output_type": "execute_result",
          "data": {
            "text/plain": [
              "Index(['block_time', 'slot', 'tx_idx', 'signing_wallet', 'direction',\n",
              "       'base_coin', 'base_coin_amount', 'quote_coin_amount',\n",
              "       'virtual_token_balance_after', 'virtual_sol_balance_after', 'signature',\n",
              "       'provided_gas_fee', 'provided_gas_limit', 'fee', 'consumed_gas', 'mint',\n",
              "       'slot_min'],\n",
              "      dtype='object')"
            ]
          },
          "metadata": {},
          "execution_count": 7
        }
      ]
    },
    {
      "cell_type": "code",
      "source": [
        "dune_info_df = dune_info_df.rename(columns={'token_mint_address': MINT_ID})\n",
        "dune_info_df = dune_info_df[[MINT_ID, 'decimals', 'name', 'symbol', 'token_uri', 'created_at', 'init_tx']].drop_duplicates(subset=[MINT_ID], keep='first')\n",
        "dune_info_df['created_at'] = pd.to_datetime(dune_info_df['created_at'], errors='coerce')\n",
        "\n",
        "onchain_info_df = onchain_info_df.rename(columns={'mint': MINT_ID})\n",
        "onchain_info_df = onchain_info_df[[MINT_ID, 'creator', 'bundle_size', 'gas_used']].drop_duplicates(subset=[MINT_ID], keep='first')\n",
        "onchain_info_df['bundle_size'] = pd.to_numeric(onchain_info_df['bundle_size'], errors='coerce').fillna(0)\n",
        "onchain_info_df['gas_used'] = pd.to_numeric(onchain_info_df['gas_used'], errors='coerce')\n",
        "\n",
        "dune_info_df.columns, onchain_info_df.columns"
      ],
      "metadata": {
        "colab": {
          "base_uri": "https://localhost:8080/"
        },
        "id": "SpmS2I8ydRWT",
        "outputId": "d1aa8fab-032a-4ea2-f001-557017f3593d"
      },
      "execution_count": 8,
      "outputs": [
        {
          "output_type": "execute_result",
          "data": {
            "text/plain": [
              "(Index(['mint', 'decimals', 'name', 'symbol', 'token_uri', 'created_at',\n",
              "        'init_tx'],\n",
              "       dtype='object'),\n",
              " Index(['mint', 'creator', 'bundle_size', 'gas_used'], dtype='object'))"
            ]
          },
          "metadata": {},
          "execution_count": 8
        }
      ]
    },
    {
      "cell_type": "code",
      "source": [
        "combined_df = pd.merge(combined_df, dune_info_df, on=MINT_ID, how='left')\n",
        "combined_df = pd.merge(combined_df, onchain_info_df, on=MINT_ID, how='left')\n",
        "combined_df.columns"
      ],
      "metadata": {
        "colab": {
          "base_uri": "https://localhost:8080/"
        },
        "id": "sbD0QywWdYF6",
        "outputId": "a40ee8b9-6e81-4a97-d31a-43585440c70d"
      },
      "execution_count": 9,
      "outputs": [
        {
          "output_type": "execute_result",
          "data": {
            "text/plain": [
              "Index(['Unnamed: 0', 'mint', 'slot_min', 'slot_graduated', 'has_graduated',\n",
              "       'is_valid', 'is_train', 'decimals', 'name', 'symbol', 'token_uri',\n",
              "       'created_at', 'init_tx', 'creator', 'bundle_size', 'gas_used'],\n",
              "      dtype='object')"
            ]
          },
          "metadata": {},
          "execution_count": 9
        }
      ]
    },
    {
      "cell_type": "markdown",
      "source": [
        "# Exploratory Data Analysis"
      ],
      "metadata": {
        "id": "1jcOP9xodmtE"
      }
    },
    {
      "cell_type": "code",
      "source": [
        "print(\"Basic EDA (Conceptual):\")\n",
        "print(f\"Train shape: {train_df.shape}\")\n",
        "print(f\"Test shape: {test_df.shape}\")\n",
        "print(f\"Transactions shape (first 100 blocks): {transactions_df.shape}\")\n",
        "print(f\"Combined shape before features: {combined_df.shape}\")\n",
        "\n",
        "print(\"\\nMissing values in combined metadata:\")\n",
        "combined_df.isnull().sum() / len(combined_df)"
      ],
      "metadata": {
        "colab": {
          "base_uri": "https://localhost:8080/",
          "height": 707
        },
        "id": "Lj-3jTVsdnWi",
        "outputId": "467e3f7d-4672-4cdf-9183-4cccb5ce3b73"
      },
      "execution_count": 10,
      "outputs": [
        {
          "output_type": "stream",
          "name": "stdout",
          "text": [
            "Basic EDA (Conceptual):\n",
            "Train shape: (639557, 7)\n",
            "Test shape: (478832, 5)\n",
            "Transactions shape (first 100 blocks): (16712389, 17)\n",
            "Combined shape before features: (1118389, 16)\n",
            "\n",
            "Missing values in combined metadata:\n"
          ]
        },
        {
          "output_type": "execute_result",
          "data": {
            "text/plain": [
              "Unnamed: 0        0.000000\n",
              "mint              0.000000\n",
              "slot_min          0.000000\n",
              "slot_graduated    0.993380\n",
              "has_graduated     0.428144\n",
              "is_valid          0.000000\n",
              "is_train          0.000000\n",
              "decimals          0.208081\n",
              "name              0.208302\n",
              "symbol            0.208477\n",
              "token_uri         0.208088\n",
              "created_at        0.208081\n",
              "init_tx           0.208081\n",
              "creator           0.557353\n",
              "bundle_size       0.557353\n",
              "gas_used          0.557353\n",
              "dtype: float64"
            ],
            "text/html": [
              "<div>\n",
              "<style scoped>\n",
              "    .dataframe tbody tr th:only-of-type {\n",
              "        vertical-align: middle;\n",
              "    }\n",
              "\n",
              "    .dataframe tbody tr th {\n",
              "        vertical-align: top;\n",
              "    }\n",
              "\n",
              "    .dataframe thead th {\n",
              "        text-align: right;\n",
              "    }\n",
              "</style>\n",
              "<table border=\"1\" class=\"dataframe\">\n",
              "  <thead>\n",
              "    <tr style=\"text-align: right;\">\n",
              "      <th></th>\n",
              "      <th>0</th>\n",
              "    </tr>\n",
              "  </thead>\n",
              "  <tbody>\n",
              "    <tr>\n",
              "      <th>Unnamed: 0</th>\n",
              "      <td>0.000000</td>\n",
              "    </tr>\n",
              "    <tr>\n",
              "      <th>mint</th>\n",
              "      <td>0.000000</td>\n",
              "    </tr>\n",
              "    <tr>\n",
              "      <th>slot_min</th>\n",
              "      <td>0.000000</td>\n",
              "    </tr>\n",
              "    <tr>\n",
              "      <th>slot_graduated</th>\n",
              "      <td>0.993380</td>\n",
              "    </tr>\n",
              "    <tr>\n",
              "      <th>has_graduated</th>\n",
              "      <td>0.428144</td>\n",
              "    </tr>\n",
              "    <tr>\n",
              "      <th>is_valid</th>\n",
              "      <td>0.000000</td>\n",
              "    </tr>\n",
              "    <tr>\n",
              "      <th>is_train</th>\n",
              "      <td>0.000000</td>\n",
              "    </tr>\n",
              "    <tr>\n",
              "      <th>decimals</th>\n",
              "      <td>0.208081</td>\n",
              "    </tr>\n",
              "    <tr>\n",
              "      <th>name</th>\n",
              "      <td>0.208302</td>\n",
              "    </tr>\n",
              "    <tr>\n",
              "      <th>symbol</th>\n",
              "      <td>0.208477</td>\n",
              "    </tr>\n",
              "    <tr>\n",
              "      <th>token_uri</th>\n",
              "      <td>0.208088</td>\n",
              "    </tr>\n",
              "    <tr>\n",
              "      <th>created_at</th>\n",
              "      <td>0.208081</td>\n",
              "    </tr>\n",
              "    <tr>\n",
              "      <th>init_tx</th>\n",
              "      <td>0.208081</td>\n",
              "    </tr>\n",
              "    <tr>\n",
              "      <th>creator</th>\n",
              "      <td>0.557353</td>\n",
              "    </tr>\n",
              "    <tr>\n",
              "      <th>bundle_size</th>\n",
              "      <td>0.557353</td>\n",
              "    </tr>\n",
              "    <tr>\n",
              "      <th>gas_used</th>\n",
              "      <td>0.557353</td>\n",
              "    </tr>\n",
              "  </tbody>\n",
              "</table>\n",
              "</div><br><label><b>dtype:</b> float64</label>"
            ]
          },
          "metadata": {},
          "execution_count": 10
        }
      ]
    },
    {
      "cell_type": "code",
      "source": [
        "print(\"\\nTarget Distribution:\")\n",
        "print(combined_df[TARGET].value_counts(normalize=True))"
      ],
      "metadata": {
        "colab": {
          "base_uri": "https://localhost:8080/"
        },
        "id": "7wvTWSYjduaH",
        "outputId": "26d17dcc-cc84-41d8-d755-f836be3779df"
      },
      "execution_count": 11,
      "outputs": [
        {
          "output_type": "stream",
          "name": "stdout",
          "text": [
            "\n",
            "Target Distribution:\n",
            "has_graduated\n",
            "False    0.988423\n",
            "True     0.011577\n",
            "Name: proportion, dtype: float64\n"
          ]
        }
      ]
    },
    {
      "cell_type": "code",
      "source": [
        "print(\"\\nTransaction Data Info:\")\n",
        "transactions_df.info()"
      ],
      "metadata": {
        "colab": {
          "base_uri": "https://localhost:8080/"
        },
        "id": "EWOYML4MdxDe",
        "outputId": "c74747e6-4e62-4b40-ca66-13bb86acfad8"
      },
      "execution_count": 12,
      "outputs": [
        {
          "output_type": "stream",
          "name": "stdout",
          "text": [
            "\n",
            "Transaction Data Info:\n",
            "<class 'pandas.core.frame.DataFrame'>\n",
            "Index: 16712389 entries, 1 to 17033441\n",
            "Data columns (total 17 columns):\n",
            " #   Column                       Dtype         \n",
            "---  ------                       -----         \n",
            " 0   block_time                   datetime64[ns]\n",
            " 1   slot                         int64         \n",
            " 2   tx_idx                       int64         \n",
            " 3   signing_wallet               object        \n",
            " 4   direction                    object        \n",
            " 5   base_coin                    object        \n",
            " 6   base_coin_amount             int64         \n",
            " 7   quote_coin_amount            int64         \n",
            " 8   virtual_token_balance_after  int64         \n",
            " 9   virtual_sol_balance_after    int64         \n",
            " 10  signature                    object        \n",
            " 11  provided_gas_fee             int64         \n",
            " 12  provided_gas_limit           int64         \n",
            " 13  fee                          int64         \n",
            " 14  consumed_gas                 int64         \n",
            " 15  mint                         object        \n",
            " 16  slot_min                     float64       \n",
            "dtypes: datetime64[ns](1), float64(1), int64(10), object(5)\n",
            "memory usage: 2.2+ GB\n"
          ]
        }
      ]
    },
    {
      "cell_type": "code",
      "source": [
        "print(\"\\nSample Transactions:\")\n",
        "transactions_df.head()"
      ],
      "metadata": {
        "colab": {
          "base_uri": "https://localhost:8080/",
          "height": 348
        },
        "id": "_jaqmnJwdx02",
        "outputId": "a8b94f04-ba83-40c9-b399-6dc68caae07a"
      },
      "execution_count": 13,
      "outputs": [
        {
          "output_type": "stream",
          "name": "stdout",
          "text": [
            "\n",
            "Sample Transactions:\n"
          ]
        },
        {
          "output_type": "execute_result",
          "data": {
            "text/plain": [
              "           block_time       slot  tx_idx  \\\n",
              "1 2025-02-01 16:00:00  317876496    1794   \n",
              "3 2025-02-01 16:00:01  317876499    1350   \n",
              "4 2025-02-01 16:00:01  317876500    2389   \n",
              "5 2025-02-01 16:00:01  317876500    2398   \n",
              "6 2025-02-01 16:00:01  317876500    2399   \n",
              "\n",
              "                                 signing_wallet direction  \\\n",
              "1  9Ypu1cMva6dE6k9Zk4aSSmSgJvMmJLTWXuGQhTYqt8mx       buy   \n",
              "3  DjZ1Cpxp6uKvYHU678QkjFj8XKfUwAmCtxUMG5QuBdJT       buy   \n",
              "4  6WgXuHPo9xWu1Mzt8hULYWFwpyh1WwhByPYjsF23h41A       buy   \n",
              "5  3G3ARHTTF6tw5K3YzCciy9shCkz4SLfJgXn57UMUsAuP       buy   \n",
              "6  5ceEgLb1Kt3a6KdHVVA28EiNEiy3etiB2x75YEfH1VoC       buy   \n",
              "\n",
              "                                      base_coin  base_coin_amount  \\\n",
              "1  BmTDA5HqcemLkEgpyK25sDhbvk652CTXjdWEa8fLpump     1785357737104   \n",
              "3  BmTDA5HqcemLkEgpyK25sDhbvk652CTXjdWEa8fLpump   115855160976852   \n",
              "4  4FJwryCAMMePNeWw9LTBXXfXABdkKcAxkTT6h9pdpump    67062499999999   \n",
              "5  4rbGH5peYV3FvCfncfsfwtBNwpjiG36nZtvxoPZ9pump    17590163934426   \n",
              "6  4rbGH5peYV3FvCfncfsfwtBNwpjiG36nZtvxoPZ9pump    26975331273241   \n",
              "\n",
              "   quote_coin_amount  virtual_token_balance_after  virtual_sol_balance_after  \\\n",
              "1           50000000             1071214642262896                30050000000   \n",
              "3         3644123135              955359481286044                33694123135   \n",
              "4         2000000000             1005937500000001                32000000000   \n",
              "5          500000000             1055409836065574                30500000000   \n",
              "6          800000000             1028434504792333                31300000000   \n",
              "\n",
              "                                           signature  provided_gas_fee  \\\n",
              "1  3HHvJsNKWg6epToaZUouqDJdkysiJGKeBkWnhg7sPyWpFY...           9475209   \n",
              "3  Ky5DURUWgB7N3NfNAx5jf7a23pecQAwxbcwuwaWE2MPk7R...         170888000   \n",
              "4  4rSq4SK7a6zb2hNV6x89DfwZ9XFAyy4sp1g9YQfuG8A3Ep...            100000   \n",
              "5  4Ms5ZBH3YFrzKHFjMauJaVnidxpdc1N1hDLBVeCUGy163o...                 0   \n",
              "6  3ndYty7LJfNsML3n83DhXACNTwEahWeAdGBDXz7TABccKV...                 0   \n",
              "\n",
              "   provided_gas_limit       fee  consumed_gas  \\\n",
              "1              194994   1857609        194994   \n",
              "3               80000  13676040         62135   \n",
              "4              500000     60000        201798   \n",
              "5                   0     10000        187493   \n",
              "6                   0      5000         58911   \n",
              "\n",
              "                                           mint     slot_min  \n",
              "1  BmTDA5HqcemLkEgpyK25sDhbvk652CTXjdWEa8fLpump  317876496.0  \n",
              "3  BmTDA5HqcemLkEgpyK25sDhbvk652CTXjdWEa8fLpump  317876496.0  \n",
              "4  4FJwryCAMMePNeWw9LTBXXfXABdkKcAxkTT6h9pdpump  317876500.0  \n",
              "5  4rbGH5peYV3FvCfncfsfwtBNwpjiG36nZtvxoPZ9pump  317876500.0  \n",
              "6  4rbGH5peYV3FvCfncfsfwtBNwpjiG36nZtvxoPZ9pump  317876500.0  "
            ],
            "text/html": [
              "\n",
              "  <div id=\"df-2bfb3d92-422f-4e83-89b7-90886ce5aba9\" class=\"colab-df-container\">\n",
              "    <div>\n",
              "<style scoped>\n",
              "    .dataframe tbody tr th:only-of-type {\n",
              "        vertical-align: middle;\n",
              "    }\n",
              "\n",
              "    .dataframe tbody tr th {\n",
              "        vertical-align: top;\n",
              "    }\n",
              "\n",
              "    .dataframe thead th {\n",
              "        text-align: right;\n",
              "    }\n",
              "</style>\n",
              "<table border=\"1\" class=\"dataframe\">\n",
              "  <thead>\n",
              "    <tr style=\"text-align: right;\">\n",
              "      <th></th>\n",
              "      <th>block_time</th>\n",
              "      <th>slot</th>\n",
              "      <th>tx_idx</th>\n",
              "      <th>signing_wallet</th>\n",
              "      <th>direction</th>\n",
              "      <th>base_coin</th>\n",
              "      <th>base_coin_amount</th>\n",
              "      <th>quote_coin_amount</th>\n",
              "      <th>virtual_token_balance_after</th>\n",
              "      <th>virtual_sol_balance_after</th>\n",
              "      <th>signature</th>\n",
              "      <th>provided_gas_fee</th>\n",
              "      <th>provided_gas_limit</th>\n",
              "      <th>fee</th>\n",
              "      <th>consumed_gas</th>\n",
              "      <th>mint</th>\n",
              "      <th>slot_min</th>\n",
              "    </tr>\n",
              "  </thead>\n",
              "  <tbody>\n",
              "    <tr>\n",
              "      <th>1</th>\n",
              "      <td>2025-02-01 16:00:00</td>\n",
              "      <td>317876496</td>\n",
              "      <td>1794</td>\n",
              "      <td>9Ypu1cMva6dE6k9Zk4aSSmSgJvMmJLTWXuGQhTYqt8mx</td>\n",
              "      <td>buy</td>\n",
              "      <td>BmTDA5HqcemLkEgpyK25sDhbvk652CTXjdWEa8fLpump</td>\n",
              "      <td>1785357737104</td>\n",
              "      <td>50000000</td>\n",
              "      <td>1071214642262896</td>\n",
              "      <td>30050000000</td>\n",
              "      <td>3HHvJsNKWg6epToaZUouqDJdkysiJGKeBkWnhg7sPyWpFY...</td>\n",
              "      <td>9475209</td>\n",
              "      <td>194994</td>\n",
              "      <td>1857609</td>\n",
              "      <td>194994</td>\n",
              "      <td>BmTDA5HqcemLkEgpyK25sDhbvk652CTXjdWEa8fLpump</td>\n",
              "      <td>317876496.0</td>\n",
              "    </tr>\n",
              "    <tr>\n",
              "      <th>3</th>\n",
              "      <td>2025-02-01 16:00:01</td>\n",
              "      <td>317876499</td>\n",
              "      <td>1350</td>\n",
              "      <td>DjZ1Cpxp6uKvYHU678QkjFj8XKfUwAmCtxUMG5QuBdJT</td>\n",
              "      <td>buy</td>\n",
              "      <td>BmTDA5HqcemLkEgpyK25sDhbvk652CTXjdWEa8fLpump</td>\n",
              "      <td>115855160976852</td>\n",
              "      <td>3644123135</td>\n",
              "      <td>955359481286044</td>\n",
              "      <td>33694123135</td>\n",
              "      <td>Ky5DURUWgB7N3NfNAx5jf7a23pecQAwxbcwuwaWE2MPk7R...</td>\n",
              "      <td>170888000</td>\n",
              "      <td>80000</td>\n",
              "      <td>13676040</td>\n",
              "      <td>62135</td>\n",
              "      <td>BmTDA5HqcemLkEgpyK25sDhbvk652CTXjdWEa8fLpump</td>\n",
              "      <td>317876496.0</td>\n",
              "    </tr>\n",
              "    <tr>\n",
              "      <th>4</th>\n",
              "      <td>2025-02-01 16:00:01</td>\n",
              "      <td>317876500</td>\n",
              "      <td>2389</td>\n",
              "      <td>6WgXuHPo9xWu1Mzt8hULYWFwpyh1WwhByPYjsF23h41A</td>\n",
              "      <td>buy</td>\n",
              "      <td>4FJwryCAMMePNeWw9LTBXXfXABdkKcAxkTT6h9pdpump</td>\n",
              "      <td>67062499999999</td>\n",
              "      <td>2000000000</td>\n",
              "      <td>1005937500000001</td>\n",
              "      <td>32000000000</td>\n",
              "      <td>4rSq4SK7a6zb2hNV6x89DfwZ9XFAyy4sp1g9YQfuG8A3Ep...</td>\n",
              "      <td>100000</td>\n",
              "      <td>500000</td>\n",
              "      <td>60000</td>\n",
              "      <td>201798</td>\n",
              "      <td>4FJwryCAMMePNeWw9LTBXXfXABdkKcAxkTT6h9pdpump</td>\n",
              "      <td>317876500.0</td>\n",
              "    </tr>\n",
              "    <tr>\n",
              "      <th>5</th>\n",
              "      <td>2025-02-01 16:00:01</td>\n",
              "      <td>317876500</td>\n",
              "      <td>2398</td>\n",
              "      <td>3G3ARHTTF6tw5K3YzCciy9shCkz4SLfJgXn57UMUsAuP</td>\n",
              "      <td>buy</td>\n",
              "      <td>4rbGH5peYV3FvCfncfsfwtBNwpjiG36nZtvxoPZ9pump</td>\n",
              "      <td>17590163934426</td>\n",
              "      <td>500000000</td>\n",
              "      <td>1055409836065574</td>\n",
              "      <td>30500000000</td>\n",
              "      <td>4Ms5ZBH3YFrzKHFjMauJaVnidxpdc1N1hDLBVeCUGy163o...</td>\n",
              "      <td>0</td>\n",
              "      <td>0</td>\n",
              "      <td>10000</td>\n",
              "      <td>187493</td>\n",
              "      <td>4rbGH5peYV3FvCfncfsfwtBNwpjiG36nZtvxoPZ9pump</td>\n",
              "      <td>317876500.0</td>\n",
              "    </tr>\n",
              "    <tr>\n",
              "      <th>6</th>\n",
              "      <td>2025-02-01 16:00:01</td>\n",
              "      <td>317876500</td>\n",
              "      <td>2399</td>\n",
              "      <td>5ceEgLb1Kt3a6KdHVVA28EiNEiy3etiB2x75YEfH1VoC</td>\n",
              "      <td>buy</td>\n",
              "      <td>4rbGH5peYV3FvCfncfsfwtBNwpjiG36nZtvxoPZ9pump</td>\n",
              "      <td>26975331273241</td>\n",
              "      <td>800000000</td>\n",
              "      <td>1028434504792333</td>\n",
              "      <td>31300000000</td>\n",
              "      <td>3ndYty7LJfNsML3n83DhXACNTwEahWeAdGBDXz7TABccKV...</td>\n",
              "      <td>0</td>\n",
              "      <td>0</td>\n",
              "      <td>5000</td>\n",
              "      <td>58911</td>\n",
              "      <td>4rbGH5peYV3FvCfncfsfwtBNwpjiG36nZtvxoPZ9pump</td>\n",
              "      <td>317876500.0</td>\n",
              "    </tr>\n",
              "  </tbody>\n",
              "</table>\n",
              "</div>\n",
              "    <div class=\"colab-df-buttons\">\n",
              "\n",
              "  <div class=\"colab-df-container\">\n",
              "    <button class=\"colab-df-convert\" onclick=\"convertToInteractive('df-2bfb3d92-422f-4e83-89b7-90886ce5aba9')\"\n",
              "            title=\"Convert this dataframe to an interactive table.\"\n",
              "            style=\"display:none;\">\n",
              "\n",
              "  <svg xmlns=\"http://www.w3.org/2000/svg\" height=\"24px\" viewBox=\"0 -960 960 960\">\n",
              "    <path d=\"M120-120v-720h720v720H120Zm60-500h600v-160H180v160Zm220 220h160v-160H400v160Zm0 220h160v-160H400v160ZM180-400h160v-160H180v160Zm440 0h160v-160H620v160ZM180-180h160v-160H180v160Zm440 0h160v-160H620v160Z\"/>\n",
              "  </svg>\n",
              "    </button>\n",
              "\n",
              "  <style>\n",
              "    .colab-df-container {\n",
              "      display:flex;\n",
              "      gap: 12px;\n",
              "    }\n",
              "\n",
              "    .colab-df-convert {\n",
              "      background-color: #E8F0FE;\n",
              "      border: none;\n",
              "      border-radius: 50%;\n",
              "      cursor: pointer;\n",
              "      display: none;\n",
              "      fill: #1967D2;\n",
              "      height: 32px;\n",
              "      padding: 0 0 0 0;\n",
              "      width: 32px;\n",
              "    }\n",
              "\n",
              "    .colab-df-convert:hover {\n",
              "      background-color: #E2EBFA;\n",
              "      box-shadow: 0px 1px 2px rgba(60, 64, 67, 0.3), 0px 1px 3px 1px rgba(60, 64, 67, 0.15);\n",
              "      fill: #174EA6;\n",
              "    }\n",
              "\n",
              "    .colab-df-buttons div {\n",
              "      margin-bottom: 4px;\n",
              "    }\n",
              "\n",
              "    [theme=dark] .colab-df-convert {\n",
              "      background-color: #3B4455;\n",
              "      fill: #D2E3FC;\n",
              "    }\n",
              "\n",
              "    [theme=dark] .colab-df-convert:hover {\n",
              "      background-color: #434B5C;\n",
              "      box-shadow: 0px 1px 3px 1px rgba(0, 0, 0, 0.15);\n",
              "      filter: drop-shadow(0px 1px 2px rgba(0, 0, 0, 0.3));\n",
              "      fill: #FFFFFF;\n",
              "    }\n",
              "  </style>\n",
              "\n",
              "    <script>\n",
              "      const buttonEl =\n",
              "        document.querySelector('#df-2bfb3d92-422f-4e83-89b7-90886ce5aba9 button.colab-df-convert');\n",
              "      buttonEl.style.display =\n",
              "        google.colab.kernel.accessAllowed ? 'block' : 'none';\n",
              "\n",
              "      async function convertToInteractive(key) {\n",
              "        const element = document.querySelector('#df-2bfb3d92-422f-4e83-89b7-90886ce5aba9');\n",
              "        const dataTable =\n",
              "          await google.colab.kernel.invokeFunction('convertToInteractive',\n",
              "                                                    [key], {});\n",
              "        if (!dataTable) return;\n",
              "\n",
              "        const docLinkHtml = 'Like what you see? Visit the ' +\n",
              "          '<a target=\"_blank\" href=https://colab.research.google.com/notebooks/data_table.ipynb>data table notebook</a>'\n",
              "          + ' to learn more about interactive tables.';\n",
              "        element.innerHTML = '';\n",
              "        dataTable['output_type'] = 'display_data';\n",
              "        await google.colab.output.renderOutput(dataTable, element);\n",
              "        const docLink = document.createElement('div');\n",
              "        docLink.innerHTML = docLinkHtml;\n",
              "        element.appendChild(docLink);\n",
              "      }\n",
              "    </script>\n",
              "  </div>\n",
              "\n",
              "\n",
              "    <div id=\"df-549e5a51-a29d-496f-a2cb-0232db275135\">\n",
              "      <button class=\"colab-df-quickchart\" onclick=\"quickchart('df-549e5a51-a29d-496f-a2cb-0232db275135')\"\n",
              "                title=\"Suggest charts\"\n",
              "                style=\"display:none;\">\n",
              "\n",
              "<svg xmlns=\"http://www.w3.org/2000/svg\" height=\"24px\"viewBox=\"0 0 24 24\"\n",
              "     width=\"24px\">\n",
              "    <g>\n",
              "        <path d=\"M19 3H5c-1.1 0-2 .9-2 2v14c0 1.1.9 2 2 2h14c1.1 0 2-.9 2-2V5c0-1.1-.9-2-2-2zM9 17H7v-7h2v7zm4 0h-2V7h2v10zm4 0h-2v-4h2v4z\"/>\n",
              "    </g>\n",
              "</svg>\n",
              "      </button>\n",
              "\n",
              "<style>\n",
              "  .colab-df-quickchart {\n",
              "      --bg-color: #E8F0FE;\n",
              "      --fill-color: #1967D2;\n",
              "      --hover-bg-color: #E2EBFA;\n",
              "      --hover-fill-color: #174EA6;\n",
              "      --disabled-fill-color: #AAA;\n",
              "      --disabled-bg-color: #DDD;\n",
              "  }\n",
              "\n",
              "  [theme=dark] .colab-df-quickchart {\n",
              "      --bg-color: #3B4455;\n",
              "      --fill-color: #D2E3FC;\n",
              "      --hover-bg-color: #434B5C;\n",
              "      --hover-fill-color: #FFFFFF;\n",
              "      --disabled-bg-color: #3B4455;\n",
              "      --disabled-fill-color: #666;\n",
              "  }\n",
              "\n",
              "  .colab-df-quickchart {\n",
              "    background-color: var(--bg-color);\n",
              "    border: none;\n",
              "    border-radius: 50%;\n",
              "    cursor: pointer;\n",
              "    display: none;\n",
              "    fill: var(--fill-color);\n",
              "    height: 32px;\n",
              "    padding: 0;\n",
              "    width: 32px;\n",
              "  }\n",
              "\n",
              "  .colab-df-quickchart:hover {\n",
              "    background-color: var(--hover-bg-color);\n",
              "    box-shadow: 0 1px 2px rgba(60, 64, 67, 0.3), 0 1px 3px 1px rgba(60, 64, 67, 0.15);\n",
              "    fill: var(--button-hover-fill-color);\n",
              "  }\n",
              "\n",
              "  .colab-df-quickchart-complete:disabled,\n",
              "  .colab-df-quickchart-complete:disabled:hover {\n",
              "    background-color: var(--disabled-bg-color);\n",
              "    fill: var(--disabled-fill-color);\n",
              "    box-shadow: none;\n",
              "  }\n",
              "\n",
              "  .colab-df-spinner {\n",
              "    border: 2px solid var(--fill-color);\n",
              "    border-color: transparent;\n",
              "    border-bottom-color: var(--fill-color);\n",
              "    animation:\n",
              "      spin 1s steps(1) infinite;\n",
              "  }\n",
              "\n",
              "  @keyframes spin {\n",
              "    0% {\n",
              "      border-color: transparent;\n",
              "      border-bottom-color: var(--fill-color);\n",
              "      border-left-color: var(--fill-color);\n",
              "    }\n",
              "    20% {\n",
              "      border-color: transparent;\n",
              "      border-left-color: var(--fill-color);\n",
              "      border-top-color: var(--fill-color);\n",
              "    }\n",
              "    30% {\n",
              "      border-color: transparent;\n",
              "      border-left-color: var(--fill-color);\n",
              "      border-top-color: var(--fill-color);\n",
              "      border-right-color: var(--fill-color);\n",
              "    }\n",
              "    40% {\n",
              "      border-color: transparent;\n",
              "      border-right-color: var(--fill-color);\n",
              "      border-top-color: var(--fill-color);\n",
              "    }\n",
              "    60% {\n",
              "      border-color: transparent;\n",
              "      border-right-color: var(--fill-color);\n",
              "    }\n",
              "    80% {\n",
              "      border-color: transparent;\n",
              "      border-right-color: var(--fill-color);\n",
              "      border-bottom-color: var(--fill-color);\n",
              "    }\n",
              "    90% {\n",
              "      border-color: transparent;\n",
              "      border-bottom-color: var(--fill-color);\n",
              "    }\n",
              "  }\n",
              "</style>\n",
              "\n",
              "      <script>\n",
              "        async function quickchart(key) {\n",
              "          const quickchartButtonEl =\n",
              "            document.querySelector('#' + key + ' button');\n",
              "          quickchartButtonEl.disabled = true;  // To prevent multiple clicks.\n",
              "          quickchartButtonEl.classList.add('colab-df-spinner');\n",
              "          try {\n",
              "            const charts = await google.colab.kernel.invokeFunction(\n",
              "                'suggestCharts', [key], {});\n",
              "          } catch (error) {\n",
              "            console.error('Error during call to suggestCharts:', error);\n",
              "          }\n",
              "          quickchartButtonEl.classList.remove('colab-df-spinner');\n",
              "          quickchartButtonEl.classList.add('colab-df-quickchart-complete');\n",
              "        }\n",
              "        (() => {\n",
              "          let quickchartButtonEl =\n",
              "            document.querySelector('#df-549e5a51-a29d-496f-a2cb-0232db275135 button');\n",
              "          quickchartButtonEl.style.display =\n",
              "            google.colab.kernel.accessAllowed ? 'block' : 'none';\n",
              "        })();\n",
              "      </script>\n",
              "    </div>\n",
              "    </div>\n",
              "  </div>\n"
            ],
            "application/vnd.google.colaboratory.intrinsic+json": {
              "type": "dataframe",
              "variable_name": "transactions_df"
            }
          },
          "metadata": {},
          "execution_count": 13
        }
      ]
    },
    {
      "cell_type": "markdown",
      "source": [
        "# Feature Engineering"
      ],
      "metadata": {
        "id": "PuQRd4Urd4dM"
      }
    },
    {
      "cell_type": "code",
      "source": [
        "print(\"Starting Feature Engineering...\")\n",
        "\n",
        "grouped_tx = transactions_df.groupby('base_coin')\n",
        "\n",
        "agg_funcs = {\n",
        "    'tx_idx': ['count'],\n",
        "    'block_time': ['min', 'max'],\n",
        "    'slot': ['min', 'max', 'nunique'],\n",
        "    'signing_wallet': ['nunique'],\n",
        "    'quote_coin_amount': ['sum', 'mean', 'std', 'max'],\n",
        "    'base_coin_amount': ['sum', 'mean', 'std', 'max'],\n",
        "    'virtual_sol_balance_after': ['last', 'max', 'min', 'mean', 'std'],\n",
        "    'virtual_token_balance_after': ['last', 'max', 'min', 'mean', 'std']\n",
        "}\n",
        "\n",
        "agg_features = grouped_tx.agg(agg_funcs)\n",
        "agg_features.columns = ['_'.join(col).strip() for col in agg_features.columns.values]\n",
        "agg_features = agg_features.reset_index().rename(columns={'base_coin': MINT_ID})"
      ],
      "metadata": {
        "colab": {
          "base_uri": "https://localhost:8080/"
        },
        "id": "qvCGa596d6Te",
        "outputId": "c4f07f47-4e90-44f9-b612-88687cec40f7"
      },
      "execution_count": 14,
      "outputs": [
        {
          "output_type": "stream",
          "name": "stdout",
          "text": [
            "Starting Feature Engineering...\n"
          ]
        }
      ]
    },
    {
      "cell_type": "code",
      "source": [
        "buy_tx = transactions_df[transactions_df['direction'] == 'buy']\n",
        "sell_tx = transactions_df[transactions_df['direction'] == 'sell']\n",
        "\n",
        "grouped_buy = buy_tx.groupby('base_coin')\n",
        "grouped_sell = sell_tx.groupby('base_coin')\n",
        "\n",
        "buy_agg = grouped_buy.agg({\n",
        "    'tx_idx': ['count'],\n",
        "    'signing_wallet': ['nunique'],\n",
        "    'quote_coin_amount': ['sum', 'mean', 'max'],\n",
        "    'base_coin_amount': ['sum', 'mean', 'max'],\n",
        "}).reset_index()\n",
        "buy_agg.columns = [MINT_ID] + ['buy_' + '_'.join(col).strip() for col in buy_agg.columns[1:]]\n",
        "\n",
        "sell_agg = grouped_sell.agg({\n",
        "    'tx_idx': ['count'],\n",
        "    'signing_wallet': ['nunique'],\n",
        "    'quote_coin_amount': ['sum', 'mean', 'max'],\n",
        "    'base_coin_amount': ['sum', 'mean', 'max'],\n",
        "}).reset_index()\n",
        "sell_agg.columns = [MINT_ID] + ['sell_' + '_'.join(col).strip() for col in sell_agg.columns[1:]]\n",
        "\n",
        "buy_agg.columns, sell_agg.columns,"
      ],
      "metadata": {
        "colab": {
          "base_uri": "https://localhost:8080/"
        },
        "id": "Mf3YmM4FeH0A",
        "outputId": "ace6c544-0e01-4759-dd07-0d4a4c9f8f30"
      },
      "execution_count": 15,
      "outputs": [
        {
          "output_type": "execute_result",
          "data": {
            "text/plain": [
              "(Index(['mint', 'buy_tx_idx_count', 'buy_signing_wallet_nunique',\n",
              "        'buy_quote_coin_amount_sum', 'buy_quote_coin_amount_mean',\n",
              "        'buy_quote_coin_amount_max', 'buy_base_coin_amount_sum',\n",
              "        'buy_base_coin_amount_mean', 'buy_base_coin_amount_max'],\n",
              "       dtype='object'),\n",
              " Index(['mint', 'sell_tx_idx_count', 'sell_signing_wallet_nunique',\n",
              "        'sell_quote_coin_amount_sum', 'sell_quote_coin_amount_mean',\n",
              "        'sell_quote_coin_amount_max', 'sell_base_coin_amount_sum',\n",
              "        'sell_base_coin_amount_mean', 'sell_base_coin_amount_max'],\n",
              "       dtype='object'))"
            ]
          },
          "metadata": {},
          "execution_count": 15
        }
      ]
    },
    {
      "cell_type": "code",
      "source": [
        "print(\"Merging aggregated features...\")\n",
        "\n",
        "combined_df = pd.merge(combined_df, agg_features[[c for c in agg_features.columns if c != 'slot_min']], on=MINT_ID, how='left')\n",
        "\n",
        "combined_df = pd.merge(combined_df, buy_agg, on=MINT_ID, how='left')\n",
        "\n",
        "combined_df = pd.merge(combined_df, sell_agg, on=MINT_ID, how='left')"
      ],
      "metadata": {
        "colab": {
          "base_uri": "https://localhost:8080/"
        },
        "id": "K6WpXaoOeK0x",
        "outputId": "d606a870-5aba-49f5-b0d9-e0fa2a5afcc2"
      },
      "execution_count": 16,
      "outputs": [
        {
          "output_type": "stream",
          "name": "stdout",
          "text": [
            "Merging aggregated features...\n"
          ]
        }
      ]
    },
    {
      "cell_type": "code",
      "source": [
        "print(\"Calculating derived features...\")\n",
        "\n",
        "required_cols_for_duration = ['block_time_max', 'block_time_min', 'slot_max', 'slot_min', 'tx_idx_count', 'slot_nunique']\n",
        "\n",
        "combined_df['tx_duration_seconds'] = (combined_df['block_time_max'] - combined_df['block_time_min']).dt.total_seconds()\n",
        "combined_df['tx_duration_slots'] = combined_df['slot_max'] - combined_df['slot_min']\n",
        "combined_df['avg_time_between_tx'] = combined_df['tx_duration_seconds'] / (combined_df['tx_idx_count'] + 1e-6)\n",
        "combined_df['tx_per_slot'] = combined_df['tx_idx_count'] / (combined_df['slot_nunique'] + 1e-6)"
      ],
      "metadata": {
        "colab": {
          "base_uri": "https://localhost:8080/"
        },
        "id": "4sDZl3MRePEP",
        "outputId": "8f2ae6d2-a330-437c-b29c-675761f7929a"
      },
      "execution_count": 17,
      "outputs": [
        {
          "output_type": "stream",
          "name": "stdout",
          "text": [
            "Calculating derived features...\n"
          ]
        }
      ]
    },
    {
      "cell_type": "code",
      "source": [
        "required_cols_for_ratios = [\n",
        "    'buy_tx_idx_count', 'sell_tx_idx_count',\n",
        "    'buy_quote_coin_amount_sum', 'sell_quote_coin_amount_sum',\n",
        "    'buy_signing_wallet_nunique', 'sell_signing_wallet_nunique', 'signing_wallet_nunique'\n",
        "]\n",
        "\n",
        "combined_df['buy_sell_count_ratio'] = combined_df['buy_tx_idx_count'] / (combined_df['sell_tx_idx_count'] + 1e-6)\n",
        "combined_df['buy_sell_vol_ratio'] = combined_df['buy_quote_coin_amount_sum'] / (combined_df['sell_quote_coin_amount_sum'] + 1e-6)\n",
        "combined_df['unique_buyer_ratio'] = combined_df['buy_signing_wallet_nunique'] / (combined_df['signing_wallet_nunique'] + 1e-6)\n",
        "combined_df['unique_seller_ratio'] = combined_df['sell_signing_wallet_nunique'] / (combined_df['signing_wallet_nunique'] + 1e-6)"
      ],
      "metadata": {
        "id": "f_BqonLjeU6d"
      },
      "execution_count": 18,
      "outputs": []
    },
    {
      "cell_type": "code",
      "source": [
        "creator_trades = transactions_df.groupby(['base_coin', 'signing_wallet']).size().reset_index(name='trade_count')\n",
        "\n",
        "creator_trades = pd.merge(creator_trades, onchain_info_df[[MINT_ID, 'creator']], left_on='base_coin', right_on=MINT_ID, how='inner')\n",
        "creator_trades = creator_trades[creator_trades['signing_wallet'] == creator_trades['creator']]\n",
        "creator_trades = creator_trades[['base_coin', 'trade_count']].rename(columns={'base_coin': MINT_ID, 'trade_count': 'creator_trade_count'})\n",
        "creator_trades = creator_trades.drop_duplicates(subset=[MINT_ID], keep='first')"
      ],
      "metadata": {
        "id": "qK3Lahx8eana"
      },
      "execution_count": 19,
      "outputs": []
    },
    {
      "cell_type": "code",
      "source": [
        "combined_df = pd.merge(combined_df, creator_trades, on=MINT_ID, how='left')\n",
        "\n",
        "combined_df['creator_traded'] = combined_df['creator_trade_count'].notna().astype(int)\n",
        "combined_df['creator_trade_count'] = combined_df['creator_trade_count'].fillna(0)"
      ],
      "metadata": {
        "id": "XQJKwxysedeN"
      },
      "execution_count": 20,
      "outputs": []
    },
    {
      "cell_type": "markdown",
      "source": [
        "# Final Feature Selection"
      ],
      "metadata": {
        "id": "gB1JEiMQetu8"
      }
    },
    {
      "cell_type": "code",
      "source": [
        "print(\"Selecting final features...\")\n",
        "features_to_drop = [\n",
        "    MINT_ID, TARGET, 'slot_graduated', 'is_train', 'slot_min',\n",
        "    'name', 'symbol', 'token_uri', 'created_at', 'init_tx',\n",
        "    'block_time_min', 'block_time_max',\n",
        "    'creator',\n",
        "    'is_valid', 'Unnamed: 0'\n",
        "]\n",
        "\n",
        "features = [col for col in combined_df.columns if col not in features_to_drop]\n",
        "categorical_features = ['creator_encoded']\n",
        "\n",
        "print(f\"Using {len(features)} features: {features}\")\n",
        "for f in features:\n",
        "    if combined_df[f].dtype == 'object':\n",
        "        print(f\"Warning: Feature '{f}' is object type. Ensure proper handling.\")\n",
        "        try:\n",
        "            combined_df[f] = pd.to_numeric(combined_df[f])\n",
        "        except:\n",
        "            print(f\"Could not convert {f} to numeric. Consider encoding or dropping.\")\n",
        "            if f in features: features.remove(f)\n",
        "\n",
        "\n",
        "train_processed = combined_df[combined_df['is_train'] == 1].reset_index(drop=True)\n",
        "train_processed[TARGET] = train_processed[TARGET].astype(int)\n",
        "test_processed = combined_df[combined_df['is_train'] == 0].reset_index(drop=True)\n",
        "\n",
        "X = train_processed[features]\n",
        "y = train_processed[TARGET]\n",
        "X_test = test_processed[features]\n",
        "\n",
        "del combined_df, transactions_df, agg_features, buy_agg, sell_agg, creator_trades, chunk_list\n",
        "gc.collect()"
      ],
      "metadata": {
        "colab": {
          "base_uri": "https://localhost:8080/"
        },
        "id": "XLStGoIsewmB",
        "outputId": "bb24e946-5ad6-4afa-e3f0-08d61560c76a"
      },
      "execution_count": 21,
      "outputs": [
        {
          "output_type": "stream",
          "name": "stdout",
          "text": [
            "Selecting final features...\n",
            "Using 51 features: ['decimals', 'bundle_size', 'gas_used', 'tx_idx_count', 'slot_max', 'slot_nunique', 'signing_wallet_nunique', 'quote_coin_amount_sum', 'quote_coin_amount_mean', 'quote_coin_amount_std', 'quote_coin_amount_max', 'base_coin_amount_sum', 'base_coin_amount_mean', 'base_coin_amount_std', 'base_coin_amount_max', 'virtual_sol_balance_after_last', 'virtual_sol_balance_after_max', 'virtual_sol_balance_after_min', 'virtual_sol_balance_after_mean', 'virtual_sol_balance_after_std', 'virtual_token_balance_after_last', 'virtual_token_balance_after_max', 'virtual_token_balance_after_min', 'virtual_token_balance_after_mean', 'virtual_token_balance_after_std', 'buy_tx_idx_count', 'buy_signing_wallet_nunique', 'buy_quote_coin_amount_sum', 'buy_quote_coin_amount_mean', 'buy_quote_coin_amount_max', 'buy_base_coin_amount_sum', 'buy_base_coin_amount_mean', 'buy_base_coin_amount_max', 'sell_tx_idx_count', 'sell_signing_wallet_nunique', 'sell_quote_coin_amount_sum', 'sell_quote_coin_amount_mean', 'sell_quote_coin_amount_max', 'sell_base_coin_amount_sum', 'sell_base_coin_amount_mean', 'sell_base_coin_amount_max', 'tx_duration_seconds', 'tx_duration_slots', 'avg_time_between_tx', 'tx_per_slot', 'buy_sell_count_ratio', 'buy_sell_vol_ratio', 'unique_buyer_ratio', 'unique_seller_ratio', 'creator_trade_count', 'creator_traded']\n"
          ]
        },
        {
          "output_type": "execute_result",
          "data": {
            "text/plain": [
              "0"
            ]
          },
          "metadata": {},
          "execution_count": 21
        }
      ]
    },
    {
      "cell_type": "code",
      "source": [
        "print(\"\\nTraining LightGBM model...\")\n",
        "lgb_oof_preds = np.zeros(len(X))\n",
        "lgb_test_preds = np.zeros(len(X_test))\n",
        "lgb_models = []\n",
        "\n",
        "skf = StratifiedKFold(n_splits=N_SPLITS, shuffle=True, random_state=RANDOM_SEED)\n",
        "\n",
        "for fold, (train_idx, val_idx) in enumerate(skf.split(X, y)):\n",
        "    print(f\"--- Fold {fold+1}/{N_SPLITS} ---\")\n",
        "    X_train, y_train = X.iloc[train_idx], y.iloc[train_idx]\n",
        "    X_val, y_val = X.iloc[val_idx], y.iloc[val_idx]\n",
        "\n",
        "    lgb_params = {\n",
        "        'objective': 'binary',\n",
        "        'metric': 'logloss',\n",
        "        'boosting_type': 'gbdt',\n",
        "        'device': 'cpu',\n",
        "        'n_estimators': 1700,\n",
        "        'learning_rate': 0.01,\n",
        "        'num_leaves': 31,\n",
        "        'max_depth': 5,\n",
        "        'seed': RANDOM_SEED + fold,\n",
        "        'n_jobs': -1,\n",
        "        'verbose': -1,\n",
        "        'colsample_bytree': 0.7,\n",
        "        'subsample': 0.7,\n",
        "        'reg_alpha': 0.1,\n",
        "        'reg_lambda': 0.1,\n",
        "    }\n",
        "\n",
        "    model = lgb.LGBMClassifier(**lgb_params)\n",
        "    model.fit(X_train, y_train,\n",
        "              eval_set=[(X_val, y_val)],\n",
        "              eval_metric='logloss',\n",
        "              callbacks=[lgb.early_stopping(100, verbose=False)],\n",
        "              categorical_feature=[f for f in categorical_features if f in X.columns]\n",
        "              )\n",
        "\n",
        "    val_preds = model.predict_proba(X_val)[:, 1]\n",
        "    lgb_oof_preds[val_idx] = val_preds\n",
        "    lgb_test_preds += model.predict_proba(X_test)[:, 1] / N_SPLITS\n",
        "    lgb_models.append(model)\n",
        "    print(f\"Fold {fold+1} OOF LogLoss: {log_loss(y_val, val_preds)}\")\n",
        "\n",
        "from sklearn.metrics import log_loss\n",
        "overall_oof_logloss = log_loss(y, lgb_oof_preds)\n",
        "print(f\"\\nLGBM Overall OOF LogLoss: {overall_oof_logloss}\")"
      ],
      "metadata": {
        "id": "_0qs74t2fFH6",
        "outputId": "ecf1fe7c-1cae-49b8-cf13-18df999c1b08",
        "colab": {
          "base_uri": "https://localhost:8080/"
        }
      },
      "execution_count": 28,
      "outputs": [
        {
          "output_type": "stream",
          "name": "stdout",
          "text": [
            "\n",
            "Training LightGBM model...\n",
            "--- Fold 1/5 ---\n",
            "Fold 1 OOF LogLoss: 0.03825090002988329\n",
            "--- Fold 2/5 ---\n",
            "Fold 2 OOF LogLoss: 0.03949193685645353\n",
            "--- Fold 3/5 ---\n",
            "Fold 3 OOF LogLoss: 0.03895313762131209\n",
            "--- Fold 4/5 ---\n",
            "Fold 4 OOF LogLoss: 0.03806144751741231\n",
            "--- Fold 5/5 ---\n",
            "Fold 5 OOF LogLoss: 0.03895733741630837\n",
            "\n",
            "LGBM Overall OOF LogLoss: 0.03874295229000997\n"
          ]
        }
      ]
    },
    {
      "cell_type": "code",
      "source": [
        "submission_df = pd.DataFrame({\n",
        "    MINT_ID: test_processed[MINT_ID],\n",
        "    TARGET: lgb_test_preds\n",
        "})\n",
        "\n",
        "submission_df[TARGET] = np.clip(submission_df[TARGET], 0.0001, 0.9999)\n",
        "\n",
        "submission_df.to_csv(SUBMISSION_FILE, index=False)\n",
        "\n",
        "print(f\"Submission file saved to: {SUBMISSION_FILE}\")\n",
        "print(\"\\nSubmission file head:\")\n",
        "print(submission_df.head())\n",
        "\n",
        "print(\"\\nScript finished successfully!\")"
      ],
      "metadata": {
        "id": "6YFGsYOIfd22",
        "outputId": "7dc5219d-cd26-4c91-86d8-fab99950e6ca",
        "colab": {
          "base_uri": "https://localhost:8080/"
        }
      },
      "execution_count": 29,
      "outputs": [
        {
          "output_type": "stream",
          "name": "stdout",
          "text": [
            "Submission file saved to: submission.csv\n",
            "\n",
            "Submission file head:\n",
            "                                           mint  has_graduated\n",
            "0  9Wt3N7etKMX9cioTdEJ5S4b8A9nK3M66n9RFVgBGpump       0.007383\n",
            "1  9q5y2X2P8ZEKTjyXBVcS5q2EZM7HbNV8DURY2qnvqi2f       0.000549\n",
            "2  HL2di8dcQ7eYDmkcFoZ4zJyHX5SbRZXAJxTegL3JPfx2       0.000793\n",
            "3  7iAFj9Pc5QH9jbGmHwYe8T6yzNVbjhL13PNJXVTspump       0.005716\n",
            "4  F7U1Rdgz2KFpneKpAnYytWF2jggnsrLScfi2A668pump       0.004208\n",
            "\n",
            "Script finished successfully!\n"
          ]
        }
      ]
    }
  ]
}