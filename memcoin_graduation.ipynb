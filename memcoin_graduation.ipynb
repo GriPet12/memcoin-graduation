{
  "cells": [
    {
      "cell_type": "markdown",
      "metadata": {
        "id": "ESyN4GCcXrH3"
      },
      "source": [
        "# Import"
      ]
    },
    {
      "cell_type": "code",
      "execution_count": 2,
      "metadata": {
        "colab": {
          "base_uri": "https://localhost:8080/"
        },
        "id": "RU5Rm703Yn9Z",
        "outputId": "26062e36-0779-45ba-813f-8dfe57f13075"
      },
      "outputs": [
        {
          "output_type": "stream",
          "name": "stdout",
          "text": [
            "Requirement already satisfied: lightgbm in /usr/local/lib/python3.11/dist-packages (4.6.0)\n",
            "Requirement already satisfied: numpy>=1.17.0 in /usr/local/lib/python3.11/dist-packages (from lightgbm) (2.0.2)\n",
            "Requirement already satisfied: scipy in /usr/local/lib/python3.11/dist-packages (from lightgbm) (1.15.3)\n"
          ]
        }
      ],
      "source": [
        "!pip install lightgbm"
      ]
    },
    {
      "cell_type": "code",
      "execution_count": 3,
      "metadata": {
        "id": "My4ddd3X-Fcf"
      },
      "outputs": [],
      "source": [
        "import pandas as pd\n",
        "import numpy as np\n",
        "import glob\n",
        "import os\n",
        "import gc\n",
        "from tqdm.auto import tqdm\n",
        "\n",
        "# Modeling & Evaluation\n",
        "from sklearn.model_selection import StratifiedKFold\n",
        "import lightgbm as lgb\n",
        "from sklearn.metrics import log_loss"
      ]
    },
    {
      "cell_type": "markdown",
      "metadata": {
        "id": "i1STWE1AXo5d"
      },
      "source": [
        "# Configuration"
      ]
    },
    {
      "cell_type": "code",
      "execution_count": 4,
      "metadata": {
        "id": "HDXD36poZFRF"
      },
      "outputs": [],
      "source": [
        "DATA_PATH = '/content/drive/MyDrive/memcoin-graduation/pump-fun-graduation-february-2025'\n",
        "CHUNK_PATTERN = os.path.join(DATA_PATH, 'chunk*.csv')\n",
        "TRAIN_FILE = os.path.join(DATA_PATH, 'train.csv')\n",
        "TEST_FILE = os.path.join(DATA_PATH, 'test_unlabeled.csv')\n",
        "DUNE_INFO_FILE = os.path.join(DATA_PATH, 'dune_token_info.csv')\n",
        "ONCHAIN_INFO_FILE = os.path.join(DATA_PATH, 'token_info_onchain_divers.csv')\n",
        "SUBMISSION_FILE = 'submission.csv'\n",
        "\n",
        "TARGET = 'has_graduated'\n",
        "MINT_ID = 'mint'\n",
        "BLOCK_LIMIT = 50\n",
        "N_SPLITS = 3\n",
        "RANDOM_SEED = 42"
      ]
    },
    {
      "cell_type": "markdown",
      "metadata": {
        "id": "y6FopxF_Z_I5"
      },
      "source": [
        "# Load Data"
      ]
    },
    {
      "cell_type": "code",
      "execution_count": 7,
      "metadata": {
        "colab": {
          "base_uri": "https://localhost:8080/",
          "height": 118,
          "referenced_widgets": [
            "7f5a771abb4e41519eda8d0d2457fd2a",
            "e7c9e02006e14e0ebe3662d50a472311",
            "efaa03a5f8d343a5855aa3be85c5076c",
            "4ce04d8d9259400d85258c82f04a5454",
            "76acef2f22a5448496c89f36f3bceaec",
            "0f5cd16a2a564ae287b8ef4506b5994e",
            "6a07e70de3ba416da74bcaa905226f38",
            "0ca76c55eaef450187afbd2f731f3474",
            "71f1ce1bdf6747aeb08cc13047e8c314",
            "7738d6ae2a0e497588e53ecbe62b0f1f",
            "a65392aa0c354ffd8b06ffadb0fe88bd"
          ]
        },
        "id": "sras5flaZ9jn",
        "outputId": "93a4f99e-94d9-4ff4-c1da-e89a86c18626"
      },
      "outputs": [
        {
          "output_type": "stream",
          "name": "stdout",
          "text": [
            "Loading data...\n"
          ]
        },
        {
          "output_type": "stream",
          "name": "stderr",
          "text": [
            "<ipython-input-7-b94845b587de>:5: DtypeWarning: Columns (1,2) have mixed types. Specify dtype option on import or set low_memory=False.\n",
            "  onchain_info_df = pd.read_csv(ONCHAIN_INFO_FILE)\n"
          ]
        },
        {
          "output_type": "stream",
          "name": "stdout",
          "text": [
            "Found 41 chunk files.\n"
          ]
        },
        {
          "output_type": "display_data",
          "data": {
            "text/plain": [
              "Loading first 5 chunks:   0%|          | 0/5 [00:00<?, ?it/s]"
            ],
            "application/vnd.jupyter.widget-view+json": {
              "version_major": 2,
              "version_minor": 0,
              "model_id": "7f5a771abb4e41519eda8d0d2457fd2a"
            }
          },
          "metadata": {}
        }
      ],
      "source": [
        "print(\"Loading data...\")\n",
        "train_df = pd.read_csv(TRAIN_FILE)\n",
        "test_df = pd.read_csv(TEST_FILE)\n",
        "dune_info_df = pd.read_csv(DUNE_INFO_FILE)\n",
        "onchain_info_df = pd.read_csv(ONCHAIN_INFO_FILE)\n",
        "\n",
        "train_df['is_train'] = 1\n",
        "test_df['is_train'] = 0\n",
        "combined_df = pd.concat([train_df, test_df], ignore_index=True)\n",
        "\n",
        "# Load chunks (simplified)\n",
        "all_chunk_files = glob.glob(CHUNK_PATTERN)\n",
        "print(f\"Found {len(all_chunk_files)} chunk files.\")\n",
        "\n",
        "chunk_list = []\n",
        "for f in tqdm(all_chunk_files[:5], desc=\"Loading first 5 chunks\"):  # Only first 5 chunks\n",
        "    try:\n",
        "        chunk_list.append(pd.read_csv(f))\n",
        "    except Exception as e:\n",
        "        print(f\"Error loading {f}: {e}\")\n",
        "\n",
        "transactions_df = pd.concat(chunk_list, ignore_index=True)"
      ]
    },
    {
      "cell_type": "code",
      "source": [
        "from google.colab import drive\n",
        "drive.mount('/content/drive')"
      ],
      "metadata": {
        "colab": {
          "base_uri": "https://localhost:8080/"
        },
        "id": "1b17cTMZf949",
        "outputId": "589641c1-dd2f-4be2-c5d6-e62a79c5c277"
      },
      "execution_count": 6,
      "outputs": [
        {
          "output_type": "stream",
          "name": "stdout",
          "text": [
            "Mounted at /content/drive\n"
          ]
        }
      ]
    },
    {
      "cell_type": "code",
      "execution_count": 8,
      "metadata": {
        "colab": {
          "base_uri": "https://localhost:8080/",
          "height": 313
        },
        "id": "7J92b_y_bUbf",
        "outputId": "facbaae2-3e55-45c5-d130-7aa2c17b93a4"
      },
      "outputs": [
        {
          "output_type": "execute_result",
          "data": {
            "text/plain": [
              "            block_time       slot  tx_idx  \\\n",
              "0  2025-02-01 16:00:00  317876496    1897   \n",
              "1  2025-02-01 16:00:00  317876496    1794   \n",
              "2  2025-02-01 16:00:00  317876496    1880   \n",
              "3  2025-02-01 16:00:01  317876499    1350   \n",
              "4  2025-02-01 16:00:01  317876500    2389   \n",
              "\n",
              "                                 signing_wallet direction  \\\n",
              "0  EXoaGQc1taATjsXVPXhnVYddW4KiM1uQRhrYDdfi1x7b       buy   \n",
              "1  9Ypu1cMva6dE6k9Zk4aSSmSgJvMmJLTWXuGQhTYqt8mx       buy   \n",
              "2  3njxeVx5TjDYD27C1YsZW2JQzgmoYeATambcbw7Xn1ft      sell   \n",
              "3  DjZ1Cpxp6uKvYHU678QkjFj8XKfUwAmCtxUMG5QuBdJT       buy   \n",
              "4  6WgXuHPo9xWu1Mzt8hULYWFwpyh1WwhByPYjsF23h41A       buy   \n",
              "\n",
              "                                      base_coin  base_coin_amount  \\\n",
              "0   Ab2voNJxp9xM2sdoF6JRJV8dtZ6hGm8yMSt3xAMpump     5208861189189   \n",
              "1  BmTDA5HqcemLkEgpyK25sDhbvk652CTXjdWEa8fLpump     1785357737104   \n",
              "2  FZ8wX1RAwV72gniwc9quiZSXHnrECQwoCxAXCWRipump      721068391933   \n",
              "3  BmTDA5HqcemLkEgpyK25sDhbvk652CTXjdWEa8fLpump   115855160976852   \n",
              "4  4FJwryCAMMePNeWw9LTBXXfXABdkKcAxkTT6h9pdpump    67062499999999   \n",
              "\n",
              "   quote_coin_amount  virtual_token_balance_after  virtual_sol_balance_after  \\\n",
              "0          150740503             1052069532604495                30596837025   \n",
              "1           50000000             1071214642262896                30050000000   \n",
              "2           22610289             1013561711601751                31759289915   \n",
              "3         3644123135              955359481286044                33694123135   \n",
              "4         2000000000             1005937500000001                32000000000   \n",
              "\n",
              "                                           signature  provided_gas_fee  \\\n",
              "0  3Td5mZpy63TNuyHncgpJFvPudbU3fKcRaeTbqTRsdSLKnN...           3982833   \n",
              "1  3HHvJsNKWg6epToaZUouqDJdkysiJGKeBkWnhg7sPyWpFY...           9475209   \n",
              "2  2rfHemwRWv9t2xuY2umAq2aQrx8Gn73g6tAEDBTE2yrzcf...           4624039   \n",
              "3  Ky5DURUWgB7N3NfNAx5jf7a23pecQAwxbcwuwaWE2MPk7R...         170888000   \n",
              "4  4rSq4SK7a6zb2hNV6x89DfwZ9XFAyy4sp1g9YQfuG8A3Ep...            100000   \n",
              "\n",
              "   provided_gas_limit       fee  consumed_gas  \n",
              "0              200862    805000        161488  \n",
              "1              194994   1857609        194994  \n",
              "2              162000    754095         78540  \n",
              "3               80000  13676040         62135  \n",
              "4              500000     60000        201798  "
            ],
            "text/html": [
              "\n",
              "  <div id=\"df-c257c4ed-fb21-43ea-89dd-e29cb60aa1a2\" class=\"colab-df-container\">\n",
              "    <div>\n",
              "<style scoped>\n",
              "    .dataframe tbody tr th:only-of-type {\n",
              "        vertical-align: middle;\n",
              "    }\n",
              "\n",
              "    .dataframe tbody tr th {\n",
              "        vertical-align: top;\n",
              "    }\n",
              "\n",
              "    .dataframe thead th {\n",
              "        text-align: right;\n",
              "    }\n",
              "</style>\n",
              "<table border=\"1\" class=\"dataframe\">\n",
              "  <thead>\n",
              "    <tr style=\"text-align: right;\">\n",
              "      <th></th>\n",
              "      <th>block_time</th>\n",
              "      <th>slot</th>\n",
              "      <th>tx_idx</th>\n",
              "      <th>signing_wallet</th>\n",
              "      <th>direction</th>\n",
              "      <th>base_coin</th>\n",
              "      <th>base_coin_amount</th>\n",
              "      <th>quote_coin_amount</th>\n",
              "      <th>virtual_token_balance_after</th>\n",
              "      <th>virtual_sol_balance_after</th>\n",
              "      <th>signature</th>\n",
              "      <th>provided_gas_fee</th>\n",
              "      <th>provided_gas_limit</th>\n",
              "      <th>fee</th>\n",
              "      <th>consumed_gas</th>\n",
              "    </tr>\n",
              "  </thead>\n",
              "  <tbody>\n",
              "    <tr>\n",
              "      <th>0</th>\n",
              "      <td>2025-02-01 16:00:00</td>\n",
              "      <td>317876496</td>\n",
              "      <td>1897</td>\n",
              "      <td>EXoaGQc1taATjsXVPXhnVYddW4KiM1uQRhrYDdfi1x7b</td>\n",
              "      <td>buy</td>\n",
              "      <td>Ab2voNJxp9xM2sdoF6JRJV8dtZ6hGm8yMSt3xAMpump</td>\n",
              "      <td>5208861189189</td>\n",
              "      <td>150740503</td>\n",
              "      <td>1052069532604495</td>\n",
              "      <td>30596837025</td>\n",
              "      <td>3Td5mZpy63TNuyHncgpJFvPudbU3fKcRaeTbqTRsdSLKnN...</td>\n",
              "      <td>3982833</td>\n",
              "      <td>200862</td>\n",
              "      <td>805000</td>\n",
              "      <td>161488</td>\n",
              "    </tr>\n",
              "    <tr>\n",
              "      <th>1</th>\n",
              "      <td>2025-02-01 16:00:00</td>\n",
              "      <td>317876496</td>\n",
              "      <td>1794</td>\n",
              "      <td>9Ypu1cMva6dE6k9Zk4aSSmSgJvMmJLTWXuGQhTYqt8mx</td>\n",
              "      <td>buy</td>\n",
              "      <td>BmTDA5HqcemLkEgpyK25sDhbvk652CTXjdWEa8fLpump</td>\n",
              "      <td>1785357737104</td>\n",
              "      <td>50000000</td>\n",
              "      <td>1071214642262896</td>\n",
              "      <td>30050000000</td>\n",
              "      <td>3HHvJsNKWg6epToaZUouqDJdkysiJGKeBkWnhg7sPyWpFY...</td>\n",
              "      <td>9475209</td>\n",
              "      <td>194994</td>\n",
              "      <td>1857609</td>\n",
              "      <td>194994</td>\n",
              "    </tr>\n",
              "    <tr>\n",
              "      <th>2</th>\n",
              "      <td>2025-02-01 16:00:00</td>\n",
              "      <td>317876496</td>\n",
              "      <td>1880</td>\n",
              "      <td>3njxeVx5TjDYD27C1YsZW2JQzgmoYeATambcbw7Xn1ft</td>\n",
              "      <td>sell</td>\n",
              "      <td>FZ8wX1RAwV72gniwc9quiZSXHnrECQwoCxAXCWRipump</td>\n",
              "      <td>721068391933</td>\n",
              "      <td>22610289</td>\n",
              "      <td>1013561711601751</td>\n",
              "      <td>31759289915</td>\n",
              "      <td>2rfHemwRWv9t2xuY2umAq2aQrx8Gn73g6tAEDBTE2yrzcf...</td>\n",
              "      <td>4624039</td>\n",
              "      <td>162000</td>\n",
              "      <td>754095</td>\n",
              "      <td>78540</td>\n",
              "    </tr>\n",
              "    <tr>\n",
              "      <th>3</th>\n",
              "      <td>2025-02-01 16:00:01</td>\n",
              "      <td>317876499</td>\n",
              "      <td>1350</td>\n",
              "      <td>DjZ1Cpxp6uKvYHU678QkjFj8XKfUwAmCtxUMG5QuBdJT</td>\n",
              "      <td>buy</td>\n",
              "      <td>BmTDA5HqcemLkEgpyK25sDhbvk652CTXjdWEa8fLpump</td>\n",
              "      <td>115855160976852</td>\n",
              "      <td>3644123135</td>\n",
              "      <td>955359481286044</td>\n",
              "      <td>33694123135</td>\n",
              "      <td>Ky5DURUWgB7N3NfNAx5jf7a23pecQAwxbcwuwaWE2MPk7R...</td>\n",
              "      <td>170888000</td>\n",
              "      <td>80000</td>\n",
              "      <td>13676040</td>\n",
              "      <td>62135</td>\n",
              "    </tr>\n",
              "    <tr>\n",
              "      <th>4</th>\n",
              "      <td>2025-02-01 16:00:01</td>\n",
              "      <td>317876500</td>\n",
              "      <td>2389</td>\n",
              "      <td>6WgXuHPo9xWu1Mzt8hULYWFwpyh1WwhByPYjsF23h41A</td>\n",
              "      <td>buy</td>\n",
              "      <td>4FJwryCAMMePNeWw9LTBXXfXABdkKcAxkTT6h9pdpump</td>\n",
              "      <td>67062499999999</td>\n",
              "      <td>2000000000</td>\n",
              "      <td>1005937500000001</td>\n",
              "      <td>32000000000</td>\n",
              "      <td>4rSq4SK7a6zb2hNV6x89DfwZ9XFAyy4sp1g9YQfuG8A3Ep...</td>\n",
              "      <td>100000</td>\n",
              "      <td>500000</td>\n",
              "      <td>60000</td>\n",
              "      <td>201798</td>\n",
              "    </tr>\n",
              "  </tbody>\n",
              "</table>\n",
              "</div>\n",
              "    <div class=\"colab-df-buttons\">\n",
              "\n",
              "  <div class=\"colab-df-container\">\n",
              "    <button class=\"colab-df-convert\" onclick=\"convertToInteractive('df-c257c4ed-fb21-43ea-89dd-e29cb60aa1a2')\"\n",
              "            title=\"Convert this dataframe to an interactive table.\"\n",
              "            style=\"display:none;\">\n",
              "\n",
              "  <svg xmlns=\"http://www.w3.org/2000/svg\" height=\"24px\" viewBox=\"0 -960 960 960\">\n",
              "    <path d=\"M120-120v-720h720v720H120Zm60-500h600v-160H180v160Zm220 220h160v-160H400v160Zm0 220h160v-160H400v160ZM180-400h160v-160H180v160Zm440 0h160v-160H620v160ZM180-180h160v-160H180v160Zm440 0h160v-160H620v160Z\"/>\n",
              "  </svg>\n",
              "    </button>\n",
              "\n",
              "  <style>\n",
              "    .colab-df-container {\n",
              "      display:flex;\n",
              "      gap: 12px;\n",
              "    }\n",
              "\n",
              "    .colab-df-convert {\n",
              "      background-color: #E8F0FE;\n",
              "      border: none;\n",
              "      border-radius: 50%;\n",
              "      cursor: pointer;\n",
              "      display: none;\n",
              "      fill: #1967D2;\n",
              "      height: 32px;\n",
              "      padding: 0 0 0 0;\n",
              "      width: 32px;\n",
              "    }\n",
              "\n",
              "    .colab-df-convert:hover {\n",
              "      background-color: #E2EBFA;\n",
              "      box-shadow: 0px 1px 2px rgba(60, 64, 67, 0.3), 0px 1px 3px 1px rgba(60, 64, 67, 0.15);\n",
              "      fill: #174EA6;\n",
              "    }\n",
              "\n",
              "    .colab-df-buttons div {\n",
              "      margin-bottom: 4px;\n",
              "    }\n",
              "\n",
              "    [theme=dark] .colab-df-convert {\n",
              "      background-color: #3B4455;\n",
              "      fill: #D2E3FC;\n",
              "    }\n",
              "\n",
              "    [theme=dark] .colab-df-convert:hover {\n",
              "      background-color: #434B5C;\n",
              "      box-shadow: 0px 1px 3px 1px rgba(0, 0, 0, 0.15);\n",
              "      filter: drop-shadow(0px 1px 2px rgba(0, 0, 0, 0.3));\n",
              "      fill: #FFFFFF;\n",
              "    }\n",
              "  </style>\n",
              "\n",
              "    <script>\n",
              "      const buttonEl =\n",
              "        document.querySelector('#df-c257c4ed-fb21-43ea-89dd-e29cb60aa1a2 button.colab-df-convert');\n",
              "      buttonEl.style.display =\n",
              "        google.colab.kernel.accessAllowed ? 'block' : 'none';\n",
              "\n",
              "      async function convertToInteractive(key) {\n",
              "        const element = document.querySelector('#df-c257c4ed-fb21-43ea-89dd-e29cb60aa1a2');\n",
              "        const dataTable =\n",
              "          await google.colab.kernel.invokeFunction('convertToInteractive',\n",
              "                                                    [key], {});\n",
              "        if (!dataTable) return;\n",
              "\n",
              "        const docLinkHtml = 'Like what you see? Visit the ' +\n",
              "          '<a target=\"_blank\" href=https://colab.research.google.com/notebooks/data_table.ipynb>data table notebook</a>'\n",
              "          + ' to learn more about interactive tables.';\n",
              "        element.innerHTML = '';\n",
              "        dataTable['output_type'] = 'display_data';\n",
              "        await google.colab.output.renderOutput(dataTable, element);\n",
              "        const docLink = document.createElement('div');\n",
              "        docLink.innerHTML = docLinkHtml;\n",
              "        element.appendChild(docLink);\n",
              "      }\n",
              "    </script>\n",
              "  </div>\n",
              "\n",
              "\n",
              "    <div id=\"df-ac69b23a-165e-4e0f-8e0a-576193216767\">\n",
              "      <button class=\"colab-df-quickchart\" onclick=\"quickchart('df-ac69b23a-165e-4e0f-8e0a-576193216767')\"\n",
              "                title=\"Suggest charts\"\n",
              "                style=\"display:none;\">\n",
              "\n",
              "<svg xmlns=\"http://www.w3.org/2000/svg\" height=\"24px\"viewBox=\"0 0 24 24\"\n",
              "     width=\"24px\">\n",
              "    <g>\n",
              "        <path d=\"M19 3H5c-1.1 0-2 .9-2 2v14c0 1.1.9 2 2 2h14c1.1 0 2-.9 2-2V5c0-1.1-.9-2-2-2zM9 17H7v-7h2v7zm4 0h-2V7h2v10zm4 0h-2v-4h2v4z\"/>\n",
              "    </g>\n",
              "</svg>\n",
              "      </button>\n",
              "\n",
              "<style>\n",
              "  .colab-df-quickchart {\n",
              "      --bg-color: #E8F0FE;\n",
              "      --fill-color: #1967D2;\n",
              "      --hover-bg-color: #E2EBFA;\n",
              "      --hover-fill-color: #174EA6;\n",
              "      --disabled-fill-color: #AAA;\n",
              "      --disabled-bg-color: #DDD;\n",
              "  }\n",
              "\n",
              "  [theme=dark] .colab-df-quickchart {\n",
              "      --bg-color: #3B4455;\n",
              "      --fill-color: #D2E3FC;\n",
              "      --hover-bg-color: #434B5C;\n",
              "      --hover-fill-color: #FFFFFF;\n",
              "      --disabled-bg-color: #3B4455;\n",
              "      --disabled-fill-color: #666;\n",
              "  }\n",
              "\n",
              "  .colab-df-quickchart {\n",
              "    background-color: var(--bg-color);\n",
              "    border: none;\n",
              "    border-radius: 50%;\n",
              "    cursor: pointer;\n",
              "    display: none;\n",
              "    fill: var(--fill-color);\n",
              "    height: 32px;\n",
              "    padding: 0;\n",
              "    width: 32px;\n",
              "  }\n",
              "\n",
              "  .colab-df-quickchart:hover {\n",
              "    background-color: var(--hover-bg-color);\n",
              "    box-shadow: 0 1px 2px rgba(60, 64, 67, 0.3), 0 1px 3px 1px rgba(60, 64, 67, 0.15);\n",
              "    fill: var(--button-hover-fill-color);\n",
              "  }\n",
              "\n",
              "  .colab-df-quickchart-complete:disabled,\n",
              "  .colab-df-quickchart-complete:disabled:hover {\n",
              "    background-color: var(--disabled-bg-color);\n",
              "    fill: var(--disabled-fill-color);\n",
              "    box-shadow: none;\n",
              "  }\n",
              "\n",
              "  .colab-df-spinner {\n",
              "    border: 2px solid var(--fill-color);\n",
              "    border-color: transparent;\n",
              "    border-bottom-color: var(--fill-color);\n",
              "    animation:\n",
              "      spin 1s steps(1) infinite;\n",
              "  }\n",
              "\n",
              "  @keyframes spin {\n",
              "    0% {\n",
              "      border-color: transparent;\n",
              "      border-bottom-color: var(--fill-color);\n",
              "      border-left-color: var(--fill-color);\n",
              "    }\n",
              "    20% {\n",
              "      border-color: transparent;\n",
              "      border-left-color: var(--fill-color);\n",
              "      border-top-color: var(--fill-color);\n",
              "    }\n",
              "    30% {\n",
              "      border-color: transparent;\n",
              "      border-left-color: var(--fill-color);\n",
              "      border-top-color: var(--fill-color);\n",
              "      border-right-color: var(--fill-color);\n",
              "    }\n",
              "    40% {\n",
              "      border-color: transparent;\n",
              "      border-right-color: var(--fill-color);\n",
              "      border-top-color: var(--fill-color);\n",
              "    }\n",
              "    60% {\n",
              "      border-color: transparent;\n",
              "      border-right-color: var(--fill-color);\n",
              "    }\n",
              "    80% {\n",
              "      border-color: transparent;\n",
              "      border-right-color: var(--fill-color);\n",
              "      border-bottom-color: var(--fill-color);\n",
              "    }\n",
              "    90% {\n",
              "      border-color: transparent;\n",
              "      border-bottom-color: var(--fill-color);\n",
              "    }\n",
              "  }\n",
              "</style>\n",
              "\n",
              "      <script>\n",
              "        async function quickchart(key) {\n",
              "          const quickchartButtonEl =\n",
              "            document.querySelector('#' + key + ' button');\n",
              "          quickchartButtonEl.disabled = true;  // To prevent multiple clicks.\n",
              "          quickchartButtonEl.classList.add('colab-df-spinner');\n",
              "          try {\n",
              "            const charts = await google.colab.kernel.invokeFunction(\n",
              "                'suggestCharts', [key], {});\n",
              "          } catch (error) {\n",
              "            console.error('Error during call to suggestCharts:', error);\n",
              "          }\n",
              "          quickchartButtonEl.classList.remove('colab-df-spinner');\n",
              "          quickchartButtonEl.classList.add('colab-df-quickchart-complete');\n",
              "        }\n",
              "        (() => {\n",
              "          let quickchartButtonEl =\n",
              "            document.querySelector('#df-ac69b23a-165e-4e0f-8e0a-576193216767 button');\n",
              "          quickchartButtonEl.style.display =\n",
              "            google.colab.kernel.accessAllowed ? 'block' : 'none';\n",
              "        })();\n",
              "      </script>\n",
              "    </div>\n",
              "    </div>\n",
              "  </div>\n"
            ],
            "application/vnd.google.colaboratory.intrinsic+json": {
              "type": "dataframe",
              "variable_name": "transactions_df"
            }
          },
          "metadata": {},
          "execution_count": 8
        }
      ],
      "source": [
        "transactions_df.head()"
      ]
    },
    {
      "cell_type": "code",
      "execution_count": 9,
      "metadata": {
        "id": "fSV5ILHEbYY1"
      },
      "outputs": [],
      "source": [
        "transactions_df['block_time'] = pd.to_datetime(transactions_df['block_time'], errors='coerce')\n",
        "transactions_df['slot'] = pd.to_numeric(transactions_df['slot'], errors='coerce')\n",
        "combined_df['slot_min'] = pd.to_numeric(combined_df['slot_min'], errors='coerce')"
      ]
    },
    {
      "cell_type": "markdown",
      "metadata": {
        "id": "QrxcLkN6btiy"
      },
      "source": [
        "# Data Merging and Preprocessing"
      ]
    },
    {
      "cell_type": "code",
      "execution_count": 10,
      "metadata": {
        "colab": {
          "base_uri": "https://localhost:8080/"
        },
        "id": "XEsab3KNbw6Z",
        "outputId": "be6099df-eedf-495c-96ce-12ee94cd0e8f"
      },
      "outputs": [
        {
          "output_type": "stream",
          "name": "stdout",
          "text": [
            "Merging data...\n"
          ]
        }
      ],
      "source": [
        "print(\"Merging data...\")\n",
        "transactions_df = pd.merge(\n",
        "    transactions_df,\n",
        "    combined_df[[MINT_ID, 'slot_min']],\n",
        "    left_on='base_coin',\n",
        "    right_on=MINT_ID,\n",
        "    how='left'\n",
        ")\n",
        "\n",
        "transactions_df = transactions_df[\n",
        "    transactions_df['slot'] <= transactions_df['slot_min'] + BLOCK_LIMIT\n",
        "]"
      ]
    },
    {
      "cell_type": "code",
      "execution_count": 11,
      "metadata": {
        "id": "SpmS2I8ydRWT"
      },
      "outputs": [],
      "source": [
        "dune_info_df = dune_info_df.rename(columns={'token_mint_address': MINT_ID})\n",
        "dune_info_df = dune_info_df[[MINT_ID, 'decimals']].drop_duplicates(subset=[MINT_ID], keep='first')\n",
        "\n",
        "onchain_info_df = onchain_info_df.rename(columns={'mint': MINT_ID})\n",
        "onchain_info_df = onchain_info_df[[MINT_ID, 'bundle_size']].drop_duplicates(subset=[MINT_ID], keep='first')\n",
        "onchain_info_df['bundle_size'] = pd.to_numeric(onchain_info_df['bundle_size'], errors='coerce').fillna(0)"
      ]
    },
    {
      "cell_type": "code",
      "execution_count": 12,
      "metadata": {
        "colab": {
          "base_uri": "https://localhost:8080/"
        },
        "id": "sbD0QywWdYF6",
        "outputId": "5a1b85da-b03f-447c-ca34-37098aa490f8"
      },
      "outputs": [
        {
          "output_type": "execute_result",
          "data": {
            "text/plain": [
              "Index(['Unnamed: 0', 'mint', 'slot_min', 'slot_graduated', 'has_graduated',\n",
              "       'is_valid', 'is_train', 'decimals', 'bundle_size'],\n",
              "      dtype='object')"
            ]
          },
          "metadata": {},
          "execution_count": 12
        }
      ],
      "source": [
        "combined_df = pd.merge(combined_df, dune_info_df, on=MINT_ID, how='left')\n",
        "combined_df = pd.merge(combined_df, onchain_info_df, on=MINT_ID, how='left')\n",
        "combined_df.columns"
      ]
    },
    {
      "cell_type": "markdown",
      "metadata": {
        "id": "1jcOP9xodmtE"
      },
      "source": [
        "# Exploratory Data Analysis"
      ]
    },
    {
      "cell_type": "code",
      "execution_count": 13,
      "metadata": {
        "id": "Lj-3jTVsdnWi",
        "colab": {
          "base_uri": "https://localhost:8080/"
        },
        "outputId": "48f10ae3-9b8a-478f-b226-0f8dad650919"
      },
      "outputs": [
        {
          "output_type": "stream",
          "name": "stdout",
          "text": [
            "Basic EDA:\n",
            "Train shape: (639557, 7)\n",
            "Test shape: (478832, 5)\n",
            "Transactions shape (first 50 blocks): (1279348, 17)\n",
            "Combined shape before features: (1118389, 9)\n",
            "\n",
            "Missing values in combined metadata:\n",
            "Unnamed: 0        0.000000\n",
            "mint              0.000000\n",
            "slot_min          0.000000\n",
            "slot_graduated    0.993380\n",
            "has_graduated     0.428144\n",
            "is_valid          0.000000\n",
            "is_train          0.000000\n",
            "decimals          0.208081\n",
            "bundle_size       0.557353\n",
            "dtype: float64\n"
          ]
        }
      ],
      "source": [
        "print(\"Basic EDA:\")\n",
        "print(f\"Train shape: {train_df.shape}\")\n",
        "print(f\"Test shape: {test_df.shape}\")\n",
        "print(f\"Transactions shape (first {BLOCK_LIMIT} blocks): {transactions_df.shape}\")\n",
        "print(f\"Combined shape before features: {combined_df.shape}\")\n",
        "\n",
        "print(\"\\nMissing values in combined metadata:\")\n",
        "print(combined_df.isnull().sum() / len(combined_df))"
      ]
    },
    {
      "cell_type": "code",
      "execution_count": 14,
      "metadata": {
        "id": "7wvTWSYjduaH",
        "colab": {
          "base_uri": "https://localhost:8080/"
        },
        "outputId": "b69dcead-b4bf-429a-9898-4de4cc847ec7"
      },
      "outputs": [
        {
          "output_type": "stream",
          "name": "stdout",
          "text": [
            "\n",
            "Target Distribution:\n",
            "has_graduated\n",
            "False    0.988423\n",
            "True     0.011577\n",
            "Name: proportion, dtype: float64\n"
          ]
        }
      ],
      "source": [
        "print(\"\\nTarget Distribution:\")\n",
        "print(combined_df[TARGET].value_counts(normalize=True))"
      ]
    },
    {
      "cell_type": "code",
      "execution_count": 15,
      "metadata": {
        "id": "EWOYML4MdxDe",
        "colab": {
          "base_uri": "https://localhost:8080/"
        },
        "outputId": "5eb4380b-c234-423c-fc44-c5b4149dfa22"
      },
      "outputs": [
        {
          "output_type": "stream",
          "name": "stdout",
          "text": [
            "\n",
            "Transaction Data Info:\n",
            "Unique tokens: 141770\n",
            "Date range: 2025-02-01 16:00:00 to 2025-02-09 20:09:24\n"
          ]
        }
      ],
      "source": [
        "print(\"\\nTransaction Data Info:\")\n",
        "print(f\"Unique tokens: {transactions_df['base_coin'].nunique()}\")\n",
        "print(f\"Date range: {transactions_df['block_time'].min()} to {transactions_df['block_time'].max()}\")"
      ]
    },
    {
      "cell_type": "markdown",
      "metadata": {
        "id": "PuQRd4Urd4dM"
      },
      "source": [
        "# Feature Engineering"
      ]
    },
    {
      "cell_type": "code",
      "execution_count": 16,
      "metadata": {
        "id": "qvCGa596d6Te",
        "colab": {
          "base_uri": "https://localhost:8080/"
        },
        "outputId": "837ca0db-e12f-4f32-f24d-7fdeda1a7480"
      },
      "outputs": [
        {
          "output_type": "stream",
          "name": "stdout",
          "text": [
            "Starting Feature Engineering...\n"
          ]
        }
      ],
      "source": [
        "print(\"Starting Feature Engineering...\")\n",
        "\n",
        "grouped_tx = transactions_df.groupby('base_coin')\n",
        "\n",
        "basic_agg = grouped_tx.agg({\n",
        "    'tx_idx': 'count',\n",
        "    'signing_wallet': 'nunique',\n",
        "    'quote_coin_amount': ['sum', 'mean'],\n",
        "    'base_coin_amount': ['sum', 'mean'],\n",
        "}).reset_index()\n",
        "\n",
        "basic_agg.columns = [MINT_ID] + ['_'.join(col).strip() if col[1] else col[0] for col in basic_agg.columns[1:]]"
      ]
    },
    {
      "cell_type": "code",
      "execution_count": 17,
      "metadata": {
        "id": "Mf3YmM4FeH0A"
      },
      "outputs": [],
      "source": [
        "buy_tx = transactions_df[transactions_df['direction'] == 'buy']\n",
        "sell_tx = transactions_df[transactions_df['direction'] == 'sell']\n",
        "\n",
        "buy_counts = buy_tx.groupby('base_coin')['tx_idx'].count().reset_index()\n",
        "buy_counts.columns = [MINT_ID, 'buy_count']\n",
        "\n",
        "sell_counts = sell_tx.groupby('base_coin')['tx_idx'].count().reset_index()\n",
        "sell_counts.columns = [MINT_ID, 'sell_count']"
      ]
    },
    {
      "cell_type": "code",
      "execution_count": 18,
      "metadata": {
        "id": "K6WpXaoOeK0x",
        "colab": {
          "base_uri": "https://localhost:8080/"
        },
        "outputId": "1fb0cdb9-e560-4e17-b72a-73e8e40b24cd"
      },
      "outputs": [
        {
          "output_type": "stream",
          "name": "stdout",
          "text": [
            "Merging aggregated features...\n"
          ]
        }
      ],
      "source": [
        "print(\"Merging aggregated features...\")\n",
        "combined_df = pd.merge(combined_df, basic_agg, on=MINT_ID, how='left')\n",
        "combined_df = pd.merge(combined_df, buy_counts, on=MINT_ID, how='left')\n",
        "combined_df = pd.merge(combined_df, sell_counts, on=MINT_ID, how='left')"
      ]
    },
    {
      "cell_type": "code",
      "execution_count": 19,
      "metadata": {
        "id": "4sDZl3MRePEP"
      },
      "outputs": [],
      "source": [
        "combined_df['buy_sell_ratio'] = combined_df['buy_count'] / (combined_df['sell_count'] + 1e-6)"
      ]
    },
    {
      "cell_type": "markdown",
      "metadata": {
        "id": "gB1JEiMQetu8"
      },
      "source": [
        "# Final Feature Selection"
      ]
    },
    {
      "cell_type": "code",
      "execution_count": 26,
      "metadata": {
        "id": "XLStGoIsewmB",
        "colab": {
          "base_uri": "https://localhost:8080/"
        },
        "outputId": "3211ed50-3aaf-4032-e842-cd7ef6387fc4"
      },
      "outputs": [
        {
          "output_type": "stream",
          "name": "stdout",
          "text": [
            "Selecting features...\n",
            "Using 12 features\n"
          ]
        }
      ],
      "source": [
        "print(\"Selecting features...\")\n",
        "features_to_drop = [\n",
        "    MINT_ID, TARGET, 'slot_graduated', 'is_train', 'slot_min'\n",
        "]\n",
        "\n",
        "features = [col for col in combined_df.columns if col not in features_to_drop and combined_df[col].dtype in ['int64', 'float64']]\n",
        "features = [f for f in features if not combined_df[f].isnull().all()]\n",
        "\n",
        "def clean_feature_names(df):\n",
        "    df = df.copy()\n",
        "    df.columns = df.columns.str.replace('[^A-Za-z0-9_]', '_', regex=True)\n",
        "    df.columns = df.columns.str.replace('__+', '_', regex=True)\n",
        "    df.columns = df.columns.str.strip('_')\n",
        "    return df\n",
        "\n",
        "print(f\"Using {len(features)} features\")\n",
        "\n",
        "train_processed = combined_df[combined_df['is_train'] == 1].reset_index(drop=True)\n",
        "test_processed = combined_df[combined_df['is_train'] == 0].reset_index(drop=True)\n",
        "\n",
        "X = train_processed[features].fillna(0)\n",
        "y = train_processed[TARGET].astype(int)\n",
        "X_test = test_processed[features].fillna(0)\n",
        "\n",
        "# Clean feature names\n",
        "X = clean_feature_names(X)\n",
        "X_test = clean_feature_names(X_test)"
      ]
    },
    {
      "cell_type": "code",
      "source": [
        "print(\"Training LightGBM model...\")\n",
        "lgb_oof_preds = np.zeros(len(X))\n",
        "lgb_test_preds = np.zeros(len(X_test))\n",
        "\n",
        "skf = StratifiedKFold(n_splits=N_SPLITS, shuffle=True, random_state=RANDOM_SEED)\n",
        "\n",
        "for fold, (train_idx, val_idx) in enumerate(skf.split(X, y)):\n",
        "    print(f\"--- Fold {fold+1}/{N_SPLITS} ---\")\n",
        "    X_train, y_train = X.iloc[train_idx], y.iloc[train_idx]\n",
        "    X_val, y_val = X.iloc[val_idx], y.iloc[val_idx]\n",
        "\n",
        "    model = lgb.LGBMClassifier(\n",
        "        objective='binary',\n",
        "        n_estimators=500,\n",
        "        learning_rate=0.05,\n",
        "        random_state=RANDOM_SEED + fold,\n",
        "        verbose=-1\n",
        "    )\n",
        "\n",
        "    model.fit(X_train, y_train,\n",
        "              eval_set=[(X_val, y_val)],\n",
        "              callbacks=[lgb.early_stopping(50, verbose=False)])\n",
        "\n",
        "    val_preds = model.predict_proba(X_val)[:, 1]\n",
        "    lgb_oof_preds[val_idx] = val_preds\n",
        "    lgb_test_preds += model.predict_proba(X_test)[:, 1] / N_SPLITS\n",
        "\n",
        "    print(f\"Fold {fold+1} OOF LogLoss: {log_loss(y_val, val_preds)}\")\n",
        "\n",
        "overall_oof_logloss = log_loss(y, lgb_oof_preds)\n",
        "print(f\"\\nOverall OOF LogLoss: {overall_oof_logloss}\")\n"
      ],
      "metadata": {
        "colab": {
          "base_uri": "https://localhost:8080/"
        },
        "id": "oEW9JueCo73v",
        "outputId": "e7d8d6ec-2b8d-4cff-9236-9f4fc05645fe"
      },
      "execution_count": 27,
      "outputs": [
        {
          "output_type": "stream",
          "name": "stdout",
          "text": [
            "Training LightGBM model...\n",
            "--- Fold 1/3 ---\n",
            "Fold 1 OOF LogLoss: 0.05954657314903961\n",
            "--- Fold 2/3 ---\n",
            "Fold 2 OOF LogLoss: 0.059220084967338354\n",
            "--- Fold 3/3 ---\n",
            "Fold 3 OOF LogLoss: 0.059505805465997146\n",
            "\n",
            "Overall OOF LogLoss: 0.05942415439979043\n"
          ]
        }
      ]
    },
    {
      "cell_type": "code",
      "execution_count": 28,
      "metadata": {
        "id": "6YFGsYOIfd22",
        "colab": {
          "base_uri": "https://localhost:8080/"
        },
        "outputId": "a65f622f-88a7-4591-d3a3-736d1e3fa05a"
      },
      "outputs": [
        {
          "output_type": "stream",
          "name": "stdout",
          "text": [
            "Submission saved to: submission.csv\n",
            "Script finished!\n"
          ]
        }
      ],
      "source": [
        "submission_df = pd.DataFrame({\n",
        "    MINT_ID: test_processed[MINT_ID],\n",
        "    TARGET: np.clip(lgb_test_preds, 0.0001, 0.9999)\n",
        "})\n",
        "\n",
        "submission_df.to_csv(SUBMISSION_FILE, index=False)\n",
        "print(f\"Submission saved to: {SUBMISSION_FILE}\")\n",
        "print(\"Script finished!\")"
      ]
    }
  ],
  "metadata": {
    "accelerator": "TPU",
    "colab": {
      "gpuType": "V28",
      "provenance": []
    },
    "kernelspec": {
      "display_name": "Python 3",
      "name": "python3"
    },
    "language_info": {
      "name": "python"
    },
    "widgets": {
      "application/vnd.jupyter.widget-state+json": {
        "7f5a771abb4e41519eda8d0d2457fd2a": {
          "model_module": "@jupyter-widgets/controls",
          "model_name": "HBoxModel",
          "model_module_version": "1.5.0",
          "state": {
            "_dom_classes": [],
            "_model_module": "@jupyter-widgets/controls",
            "_model_module_version": "1.5.0",
            "_model_name": "HBoxModel",
            "_view_count": null,
            "_view_module": "@jupyter-widgets/controls",
            "_view_module_version": "1.5.0",
            "_view_name": "HBoxView",
            "box_style": "",
            "children": [
              "IPY_MODEL_e7c9e02006e14e0ebe3662d50a472311",
              "IPY_MODEL_efaa03a5f8d343a5855aa3be85c5076c",
              "IPY_MODEL_4ce04d8d9259400d85258c82f04a5454"
            ],
            "layout": "IPY_MODEL_76acef2f22a5448496c89f36f3bceaec"
          }
        },
        "e7c9e02006e14e0ebe3662d50a472311": {
          "model_module": "@jupyter-widgets/controls",
          "model_name": "HTMLModel",
          "model_module_version": "1.5.0",
          "state": {
            "_dom_classes": [],
            "_model_module": "@jupyter-widgets/controls",
            "_model_module_version": "1.5.0",
            "_model_name": "HTMLModel",
            "_view_count": null,
            "_view_module": "@jupyter-widgets/controls",
            "_view_module_version": "1.5.0",
            "_view_name": "HTMLView",
            "description": "",
            "description_tooltip": null,
            "layout": "IPY_MODEL_0f5cd16a2a564ae287b8ef4506b5994e",
            "placeholder": "​",
            "style": "IPY_MODEL_6a07e70de3ba416da74bcaa905226f38",
            "value": "Loading first 5 chunks: 100%"
          }
        },
        "efaa03a5f8d343a5855aa3be85c5076c": {
          "model_module": "@jupyter-widgets/controls",
          "model_name": "FloatProgressModel",
          "model_module_version": "1.5.0",
          "state": {
            "_dom_classes": [],
            "_model_module": "@jupyter-widgets/controls",
            "_model_module_version": "1.5.0",
            "_model_name": "FloatProgressModel",
            "_view_count": null,
            "_view_module": "@jupyter-widgets/controls",
            "_view_module_version": "1.5.0",
            "_view_name": "ProgressView",
            "bar_style": "success",
            "description": "",
            "description_tooltip": null,
            "layout": "IPY_MODEL_0ca76c55eaef450187afbd2f731f3474",
            "max": 5,
            "min": 0,
            "orientation": "horizontal",
            "style": "IPY_MODEL_71f1ce1bdf6747aeb08cc13047e8c314",
            "value": 5
          }
        },
        "4ce04d8d9259400d85258c82f04a5454": {
          "model_module": "@jupyter-widgets/controls",
          "model_name": "HTMLModel",
          "model_module_version": "1.5.0",
          "state": {
            "_dom_classes": [],
            "_model_module": "@jupyter-widgets/controls",
            "_model_module_version": "1.5.0",
            "_model_name": "HTMLModel",
            "_view_count": null,
            "_view_module": "@jupyter-widgets/controls",
            "_view_module_version": "1.5.0",
            "_view_name": "HTMLView",
            "description": "",
            "description_tooltip": null,
            "layout": "IPY_MODEL_7738d6ae2a0e497588e53ecbe62b0f1f",
            "placeholder": "​",
            "style": "IPY_MODEL_a65392aa0c354ffd8b06ffadb0fe88bd",
            "value": " 5/5 [00:21&lt;00:00,  4.10s/it]"
          }
        },
        "76acef2f22a5448496c89f36f3bceaec": {
          "model_module": "@jupyter-widgets/base",
          "model_name": "LayoutModel",
          "model_module_version": "1.2.0",
          "state": {
            "_model_module": "@jupyter-widgets/base",
            "_model_module_version": "1.2.0",
            "_model_name": "LayoutModel",
            "_view_count": null,
            "_view_module": "@jupyter-widgets/base",
            "_view_module_version": "1.2.0",
            "_view_name": "LayoutView",
            "align_content": null,
            "align_items": null,
            "align_self": null,
            "border": null,
            "bottom": null,
            "display": null,
            "flex": null,
            "flex_flow": null,
            "grid_area": null,
            "grid_auto_columns": null,
            "grid_auto_flow": null,
            "grid_auto_rows": null,
            "grid_column": null,
            "grid_gap": null,
            "grid_row": null,
            "grid_template_areas": null,
            "grid_template_columns": null,
            "grid_template_rows": null,
            "height": null,
            "justify_content": null,
            "justify_items": null,
            "left": null,
            "margin": null,
            "max_height": null,
            "max_width": null,
            "min_height": null,
            "min_width": null,
            "object_fit": null,
            "object_position": null,
            "order": null,
            "overflow": null,
            "overflow_x": null,
            "overflow_y": null,
            "padding": null,
            "right": null,
            "top": null,
            "visibility": null,
            "width": null
          }
        },
        "0f5cd16a2a564ae287b8ef4506b5994e": {
          "model_module": "@jupyter-widgets/base",
          "model_name": "LayoutModel",
          "model_module_version": "1.2.0",
          "state": {
            "_model_module": "@jupyter-widgets/base",
            "_model_module_version": "1.2.0",
            "_model_name": "LayoutModel",
            "_view_count": null,
            "_view_module": "@jupyter-widgets/base",
            "_view_module_version": "1.2.0",
            "_view_name": "LayoutView",
            "align_content": null,
            "align_items": null,
            "align_self": null,
            "border": null,
            "bottom": null,
            "display": null,
            "flex": null,
            "flex_flow": null,
            "grid_area": null,
            "grid_auto_columns": null,
            "grid_auto_flow": null,
            "grid_auto_rows": null,
            "grid_column": null,
            "grid_gap": null,
            "grid_row": null,
            "grid_template_areas": null,
            "grid_template_columns": null,
            "grid_template_rows": null,
            "height": null,
            "justify_content": null,
            "justify_items": null,
            "left": null,
            "margin": null,
            "max_height": null,
            "max_width": null,
            "min_height": null,
            "min_width": null,
            "object_fit": null,
            "object_position": null,
            "order": null,
            "overflow": null,
            "overflow_x": null,
            "overflow_y": null,
            "padding": null,
            "right": null,
            "top": null,
            "visibility": null,
            "width": null
          }
        },
        "6a07e70de3ba416da74bcaa905226f38": {
          "model_module": "@jupyter-widgets/controls",
          "model_name": "DescriptionStyleModel",
          "model_module_version": "1.5.0",
          "state": {
            "_model_module": "@jupyter-widgets/controls",
            "_model_module_version": "1.5.0",
            "_model_name": "DescriptionStyleModel",
            "_view_count": null,
            "_view_module": "@jupyter-widgets/base",
            "_view_module_version": "1.2.0",
            "_view_name": "StyleView",
            "description_width": ""
          }
        },
        "0ca76c55eaef450187afbd2f731f3474": {
          "model_module": "@jupyter-widgets/base",
          "model_name": "LayoutModel",
          "model_module_version": "1.2.0",
          "state": {
            "_model_module": "@jupyter-widgets/base",
            "_model_module_version": "1.2.0",
            "_model_name": "LayoutModel",
            "_view_count": null,
            "_view_module": "@jupyter-widgets/base",
            "_view_module_version": "1.2.0",
            "_view_name": "LayoutView",
            "align_content": null,
            "align_items": null,
            "align_self": null,
            "border": null,
            "bottom": null,
            "display": null,
            "flex": null,
            "flex_flow": null,
            "grid_area": null,
            "grid_auto_columns": null,
            "grid_auto_flow": null,
            "grid_auto_rows": null,
            "grid_column": null,
            "grid_gap": null,
            "grid_row": null,
            "grid_template_areas": null,
            "grid_template_columns": null,
            "grid_template_rows": null,
            "height": null,
            "justify_content": null,
            "justify_items": null,
            "left": null,
            "margin": null,
            "max_height": null,
            "max_width": null,
            "min_height": null,
            "min_width": null,
            "object_fit": null,
            "object_position": null,
            "order": null,
            "overflow": null,
            "overflow_x": null,
            "overflow_y": null,
            "padding": null,
            "right": null,
            "top": null,
            "visibility": null,
            "width": null
          }
        },
        "71f1ce1bdf6747aeb08cc13047e8c314": {
          "model_module": "@jupyter-widgets/controls",
          "model_name": "ProgressStyleModel",
          "model_module_version": "1.5.0",
          "state": {
            "_model_module": "@jupyter-widgets/controls",
            "_model_module_version": "1.5.0",
            "_model_name": "ProgressStyleModel",
            "_view_count": null,
            "_view_module": "@jupyter-widgets/base",
            "_view_module_version": "1.2.0",
            "_view_name": "StyleView",
            "bar_color": null,
            "description_width": ""
          }
        },
        "7738d6ae2a0e497588e53ecbe62b0f1f": {
          "model_module": "@jupyter-widgets/base",
          "model_name": "LayoutModel",
          "model_module_version": "1.2.0",
          "state": {
            "_model_module": "@jupyter-widgets/base",
            "_model_module_version": "1.2.0",
            "_model_name": "LayoutModel",
            "_view_count": null,
            "_view_module": "@jupyter-widgets/base",
            "_view_module_version": "1.2.0",
            "_view_name": "LayoutView",
            "align_content": null,
            "align_items": null,
            "align_self": null,
            "border": null,
            "bottom": null,
            "display": null,
            "flex": null,
            "flex_flow": null,
            "grid_area": null,
            "grid_auto_columns": null,
            "grid_auto_flow": null,
            "grid_auto_rows": null,
            "grid_column": null,
            "grid_gap": null,
            "grid_row": null,
            "grid_template_areas": null,
            "grid_template_columns": null,
            "grid_template_rows": null,
            "height": null,
            "justify_content": null,
            "justify_items": null,
            "left": null,
            "margin": null,
            "max_height": null,
            "max_width": null,
            "min_height": null,
            "min_width": null,
            "object_fit": null,
            "object_position": null,
            "order": null,
            "overflow": null,
            "overflow_x": null,
            "overflow_y": null,
            "padding": null,
            "right": null,
            "top": null,
            "visibility": null,
            "width": null
          }
        },
        "a65392aa0c354ffd8b06ffadb0fe88bd": {
          "model_module": "@jupyter-widgets/controls",
          "model_name": "DescriptionStyleModel",
          "model_module_version": "1.5.0",
          "state": {
            "_model_module": "@jupyter-widgets/controls",
            "_model_module_version": "1.5.0",
            "_model_name": "DescriptionStyleModel",
            "_view_count": null,
            "_view_module": "@jupyter-widgets/base",
            "_view_module_version": "1.2.0",
            "_view_name": "StyleView",
            "description_width": ""
          }
        }
      }
    }
  },
  "nbformat": 4,
  "nbformat_minor": 0
}